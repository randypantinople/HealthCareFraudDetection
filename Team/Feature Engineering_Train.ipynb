{
 "cells": [
  {
   "cell_type": "code",
   "execution_count": 2,
   "metadata": {},
   "outputs": [],
   "source": [
    "import pandas as pd\n",
    "import numpy as np\n",
    "%matplotlib inline\n",
    "import seaborn as sns\n",
    "import datetime as dt\n",
    "from matplotlib import pyplot as plt\n",
    "pd.set_option('display.max_columns', None)"
   ]
  },
  {
   "cell_type": "code",
   "execution_count": 2,
   "metadata": {},
   "outputs": [],
   "source": [
    "# Training data sets\n",
    "benef = pd.read_csv('./data/Train_Beneficiary.csv')\n",
    "inpat = pd.read_csv('./data/Train_Inpatient.csv')\n",
    "outpat = pd.read_csv('./data/Train_Outpatient.csv')\n",
    "fraud = pd.read_csv('./data/Train-Potential Fraud.csv')"
   ]
  },
  {
   "cell_type": "code",
   "execution_count": 3,
   "metadata": {},
   "outputs": [
    {
     "name": "stdout",
     "output_type": "stream",
     "text": [
      "(138556, 25)\n",
      "(40474, 30)\n",
      "(517737, 27)\n",
      "(5410, 2)\n"
     ]
    }
   ],
   "source": [
    "print(benef.shape)\n",
    "print(inpat.shape)\n",
    "print(outpat.shape)\n",
    "print(fraud.shape)"
   ]
  },
  {
   "cell_type": "code",
   "execution_count": 4,
   "metadata": {},
   "outputs": [],
   "source": [
    "#Create columns for inpatient and outpatient data.\n",
    "inpat['patientType'] = np.repeat('inpatient', len(inpat))\n",
    "outpat['patientType'] = np.repeat('outpatient', len(outpat))"
   ]
  },
  {
   "cell_type": "code",
   "execution_count": 5,
   "metadata": {},
   "outputs": [
    {
     "name": "stderr",
     "output_type": "stream",
     "text": [
      "/opt/anaconda3/lib/python3.7/site-packages/ipykernel_launcher.py:2: FutureWarning: Sorting because non-concatenation axis is not aligned. A future version\n",
      "of pandas will change to not sort by default.\n",
      "\n",
      "To accept the future behavior, pass 'sort=False'.\n",
      "\n",
      "To retain the current behavior and silence the warning, pass 'sort=True'.\n",
      "\n",
      "  \n"
     ]
    }
   ],
   "source": [
    "#Combining the inpatient and outpatient data\n",
    "patient = pd.concat([inpat, outpat], axis=0)"
   ]
  },
  {
   "cell_type": "code",
   "execution_count": 6,
   "metadata": {},
   "outputs": [],
   "source": [
    "# Combining patient dataset with beneficiary dataset \n",
    "full_data =pd.merge(patient, benef, on='BeneID', how='left')"
   ]
  },
  {
   "cell_type": "code",
   "execution_count": 7,
   "metadata": {},
   "outputs": [],
   "source": [
    "full_data1 = full_data.copy()"
   ]
  },
  {
   "cell_type": "code",
   "execution_count": 8,
   "metadata": {},
   "outputs": [],
   "source": [
    "# Creating DaysAdmitted Feature by substracting claim start date from claim end date \n",
    "full_data1['ClaimStartDt'] = pd.to_datetime(full_data1['ClaimStartDt'])\n",
    "full_data1['ClaimEndDt'] = pd.to_datetime(full_data1['ClaimEndDt'])\n",
    "full_data1['DaysAdmitted'] = full_data1['ClaimEndDt'] - full_data1['ClaimStartDt']"
   ]
  },
  {
   "cell_type": "code",
   "execution_count": 9,
   "metadata": {},
   "outputs": [],
   "source": [
    "# Chaging DaysAdmitted into integer object \n",
    "full_data1['DaysAdmitted'] = full_data1['DaysAdmitted'].astype(str)\n",
    "full_data1['DaysAdmitted'] = full_data1['DaysAdmitted'].str.replace('days', ' ')\n",
    "\n",
    "full_data1['DaysAdmitted'] = full_data1['DaysAdmitted']. \\\n",
    "str.replace('00:00:00.000000000', '')\n",
    "\n",
    "full_data1['DaysAdmitted'] = full_data1['DaysAdmitted'].astype(int)\n",
    "\n",
    "full_data1['DaysAdmitted'] = full_data1['DaysAdmitted'] + 1"
   ]
  },
  {
   "cell_type": "markdown",
   "metadata": {},
   "source": [
    "#### First Feature Engineered: DaysAdmittedMean"
   ]
  },
  {
   "cell_type": "code",
   "execution_count": 10,
   "metadata": {},
   "outputs": [],
   "source": [
    "# Creating a separate dataframe of DaysAdmittedMean by Provider\n",
    "days = pd.DataFrame(full_data1.groupby('Provider')['DaysAdmitted'].mean())\n",
    "days = days.reset_index()"
   ]
  },
  {
   "cell_type": "code",
   "execution_count": 11,
   "metadata": {},
   "outputs": [],
   "source": [
    "# Merging Potential Fraud dataset with DaysAdmittedMean dataset \n",
    "fraud1 = fraud.copy()\n",
    "fraud2 = pd.merge(fraud1, days, on='Provider')"
   ]
  },
  {
   "cell_type": "markdown",
   "metadata": {},
   "source": [
    "#### 2nd Feature: DeductibleAmountPaid Mean"
   ]
  },
  {
   "cell_type": "code",
   "execution_count": 12,
   "metadata": {},
   "outputs": [],
   "source": [
    "DeductibleMean = pd.DataFrame(full_data1.groupby('Provider') \\\n",
    "                              ['DeductibleAmtPaid'].mean())\n",
    "\n",
    "fraud2 = pd.merge(fraud2, DeductibleMean, on='Provider')"
   ]
  },
  {
   "cell_type": "code",
   "execution_count": 13,
   "metadata": {},
   "outputs": [
    {
     "data": {
      "text/plain": [
       "PotentialFraud\n",
       "No     135.498511\n",
       "Yes    350.839395\n",
       "Name: DeductibleAmtPaid, dtype: float64"
      ]
     },
     "execution_count": 13,
     "metadata": {},
     "output_type": "execute_result"
    }
   ],
   "source": [
    "fraud2.groupby('PotentialFraud')['DeductibleAmtPaid'].mean()"
   ]
  },
  {
   "cell_type": "markdown",
   "metadata": {},
   "source": [
    "#### 3rd Feature: Insurance Claim Amount Reimbursed Mean"
   ]
  },
  {
   "cell_type": "code",
   "execution_count": 14,
   "metadata": {},
   "outputs": [],
   "source": [
    "InscReimbursed = pd.DataFrame(full_data1.groupby('Provider') \\\n",
    "                              ['InscClaimAmtReimbursed'].mean())\n",
    "\n",
    "fraud2 = pd.merge(fraud2, InscReimbursed, on='Provider')"
   ]
  },
  {
   "cell_type": "code",
   "execution_count": 15,
   "metadata": {},
   "outputs": [
    {
     "data": {
      "text/plain": [
       "PotentialFraud\n",
       "No     1523.780804\n",
       "Yes    3842.795104\n",
       "Name: InscClaimAmtReimbursed, dtype: float64"
      ]
     },
     "execution_count": 15,
     "metadata": {},
     "output_type": "execute_result"
    }
   ],
   "source": [
    "fraud2.groupby('PotentialFraud')['InscClaimAmtReimbursed'].mean()"
   ]
  },
  {
   "cell_type": "markdown",
   "metadata": {},
   "source": [
    "#### 4th Feature: Insurance Covered Percentage Mean"
   ]
  },
  {
   "cell_type": "code",
   "execution_count": 16,
   "metadata": {},
   "outputs": [],
   "source": [
    "full_data1['InscCoveredPercent'] = full_data1['InscClaimAmtReimbursed'] \\\n",
    "/(full_data1['InscClaimAmtReimbursed'] + full_data1['DeductibleAmtPaid'])\n",
    "\n",
    "InscCoveredPercent = pd.DataFrame(full_data1.groupby('Provider') \\\n",
    "                                  ['InscCoveredPercent'].mean())\n",
    "\n",
    "fraud2 = pd.merge(fraud2, InscCoveredPercent, on='Provider')"
   ]
  },
  {
   "cell_type": "code",
   "execution_count": 17,
   "metadata": {},
   "outputs": [
    {
     "data": {
      "text/plain": [
       "PotentialFraud\n",
       "No     0.962077\n",
       "Yes    0.934837\n",
       "Name: InscCoveredPercent, dtype: float64"
      ]
     },
     "execution_count": 17,
     "metadata": {},
     "output_type": "execute_result"
    }
   ],
   "source": [
    "fraud2.groupby('PotentialFraud')['InscCoveredPercent'].mean()"
   ]
  },
  {
   "cell_type": "markdown",
   "metadata": {},
   "source": [
    "#### 5th Feature: Total Claim Amount Mean"
   ]
  },
  {
   "cell_type": "code",
   "execution_count": 18,
   "metadata": {},
   "outputs": [],
   "source": [
    "full_data1['TotalClaimAmount'] = full_data1['InscClaimAmtReimbursed']\\\n",
    "+ full_data1['DeductibleAmtPaid']\n",
    "\n",
    "TotalClaimAmount = pd.DataFrame(full_data1.groupby('Provider') \\\n",
    "                                ['TotalClaimAmount'].mean())\n",
    "\n",
    "fraud2 = pd.merge(fraud2, TotalClaimAmount, on='Provider')"
   ]
  },
  {
   "cell_type": "code",
   "execution_count": 19,
   "metadata": {},
   "outputs": [
    {
     "data": {
      "text/plain": [
       "PotentialFraud\n",
       "No     1645.778736\n",
       "Yes    4142.438122\n",
       "Name: TotalClaimAmount, dtype: float64"
      ]
     },
     "execution_count": 19,
     "metadata": {},
     "output_type": "execute_result"
    }
   ],
   "source": [
    "fraud2.groupby('PotentialFraud')['TotalClaimAmount'].mean()"
   ]
  },
  {
   "cell_type": "markdown",
   "metadata": {},
   "source": [
    "#### 6th Feature: Daily Total Charge"
   ]
  },
  {
   "cell_type": "code",
   "execution_count": 20,
   "metadata": {},
   "outputs": [],
   "source": [
    "full_data1['DailyTotalCharge'] = full_data1['TotalClaimAmount'] \\\n",
    "/full_data1['DaysAdmitted']\n",
    "\n",
    "DailyTotalCharge = pd.DataFrame(full_data1.groupby('Provider') \\\n",
    "                                ['DailyTotalCharge'].mean())\n",
    "\n",
    "fraud2 = pd.merge(fraud2, DailyTotalCharge, on='Provider')"
   ]
  },
  {
   "cell_type": "code",
   "execution_count": 21,
   "metadata": {},
   "outputs": [
    {
     "data": {
      "text/plain": [
       "PotentialFraud\n",
       "No     471.273799\n",
       "Yes    952.785225\n",
       "Name: DailyTotalCharge, dtype: float64"
      ]
     },
     "execution_count": 21,
     "metadata": {},
     "output_type": "execute_result"
    }
   ],
   "source": [
    "fraud2.groupby('PotentialFraud')['DailyTotalCharge'].mean()"
   ]
  },
  {
   "cell_type": "markdown",
   "metadata": {},
   "source": [
    "#### Features 7-10: Annual Reimbursement and Deductible Paid Amounts for Inpatient and Outpatient"
   ]
  },
  {
   "cell_type": "code",
   "execution_count": 22,
   "metadata": {},
   "outputs": [],
   "source": [
    "IPAnnReimbMean = pd.DataFrame(full_data1.groupby('Provider') \\\n",
    "                              ['IPAnnualReimbursementAmt'].mean())\n",
    "\n",
    "IPAnnDeductMean = pd.DataFrame(full_data1.groupby('Provider') \\\n",
    "                               ['IPAnnualDeductibleAmt'].mean())\n",
    "\n",
    "OPAnnReimbMean = pd.DataFrame(full_data1.groupby('Provider') \\\n",
    "                              ['OPAnnualReimbursementAmt'].mean())\n",
    "\n",
    "OPAnnDeductMean = pd.DataFrame(full_data1.groupby('Provider') \\\n",
    "                               ['OPAnnualDeductibleAmt'].mean())"
   ]
  },
  {
   "cell_type": "code",
   "execution_count": 23,
   "metadata": {},
   "outputs": [],
   "source": [
    "fraud2 = pd.merge(fraud2, IPAnnReimbMean, on='Provider')\n",
    "fraud2 = pd.merge(fraud2, IPAnnDeductMean, on='Provider')\n",
    "fraud2 = pd.merge(fraud2, OPAnnReimbMean, on='Provider')\n",
    "fraud2 = pd.merge(fraud2, OPAnnDeductMean, on='Provider')"
   ]
  },
  {
   "cell_type": "code",
   "execution_count": 24,
   "metadata": {},
   "outputs": [
    {
     "data": {
      "text/plain": [
       "PotentialFraud\n",
       "No     5868.975601\n",
       "Yes    9052.076164\n",
       "Name: IPAnnualReimbursementAmt, dtype: float64"
      ]
     },
     "execution_count": 24,
     "metadata": {},
     "output_type": "execute_result"
    }
   ],
   "source": [
    "fraud2.groupby('PotentialFraud')['IPAnnualReimbursementAmt'].mean()"
   ]
  },
  {
   "cell_type": "code",
   "execution_count": 25,
   "metadata": {},
   "outputs": [
    {
     "data": {
      "text/plain": [
       "PotentialFraud\n",
       "No     638.107001\n",
       "Yes    946.817676\n",
       "Name: IPAnnualDeductibleAmt, dtype: float64"
      ]
     },
     "execution_count": 25,
     "metadata": {},
     "output_type": "execute_result"
    }
   ],
   "source": [
    "fraud2.groupby('PotentialFraud')['IPAnnualDeductibleAmt'].mean()"
   ]
  },
  {
   "cell_type": "code",
   "execution_count": 26,
   "metadata": {},
   "outputs": [
    {
     "data": {
      "text/plain": [
       "PotentialFraud\n",
       "No     2191.723203\n",
       "Yes    2273.113210\n",
       "Name: OPAnnualReimbursementAmt, dtype: float64"
      ]
     },
     "execution_count": 26,
     "metadata": {},
     "output_type": "execute_result"
    }
   ],
   "source": [
    "fraud2.groupby('PotentialFraud')['OPAnnualReimbursementAmt'].mean()"
   ]
  },
  {
   "cell_type": "code",
   "execution_count": 27,
   "metadata": {},
   "outputs": [
    {
     "data": {
      "text/plain": [
       "PotentialFraud\n",
       "No     628.840769\n",
       "Yes    631.565539\n",
       "Name: OPAnnualDeductibleAmt, dtype: float64"
      ]
     },
     "execution_count": 27,
     "metadata": {},
     "output_type": "execute_result"
    }
   ],
   "source": [
    "fraud2.groupby('PotentialFraud')['OPAnnualDeductibleAmt'].mean()"
   ]
  },
  {
   "cell_type": "markdown",
   "metadata": {},
   "source": [
    "#### Feature 11: Total Annual Claim Amount Mean"
   ]
  },
  {
   "cell_type": "code",
   "execution_count": 28,
   "metadata": {},
   "outputs": [],
   "source": [
    "full_data1['TotalAnnClaimAmt'] = full_data1['IPAnnualReimbursementAmt']+ \\\n",
    "full_data1['IPAnnualDeductibleAmt']+full_data1['OPAnnualReimbursementAmt'] \\\n",
    "+ full_data1['OPAnnualDeductibleAmt']\n",
    "\n",
    "TotalAnnClaimAmt = pd.DataFrame(full_data1.groupby('Provider') \\\n",
    "                                ['TotalAnnClaimAmt'].mean())\n",
    "\n",
    "fraud2 = pd.merge(fraud2, TotalAnnClaimAmt, on='Provider')"
   ]
  },
  {
   "cell_type": "code",
   "execution_count": 29,
   "metadata": {},
   "outputs": [
    {
     "data": {
      "text/plain": [
       "PotentialFraud\n",
       "No      9327.646575\n",
       "Yes    12903.572589\n",
       "Name: TotalAnnClaimAmt, dtype: float64"
      ]
     },
     "execution_count": 29,
     "metadata": {},
     "output_type": "execute_result"
    }
   ],
   "source": [
    "fraud2.groupby('PotentialFraud')['TotalAnnClaimAmt'].mean()"
   ]
  },
  {
   "cell_type": "markdown",
   "metadata": {},
   "source": [
    "## Randy's Features"
   ]
  },
  {
   "cell_type": "markdown",
   "metadata": {},
   "source": [
    "#### Add number of doctors"
   ]
  },
  {
   "cell_type": "code",
   "execution_count": 30,
   "metadata": {},
   "outputs": [],
   "source": [
    "doctors= full_data1.groupby(['Provider', 'AttendingPhysician']) \\\n",
    "['AttendingPhysician'].count().reset_index(name='NumOfDoctors'). \\\n",
    "groupby('Provider')['NumOfDoctors'].count().reset_index()\n",
    "\n",
    "fraud2 = pd.merge(fraud2, doctors, on='Provider')"
   ]
  },
  {
   "cell_type": "markdown",
   "metadata": {},
   "source": [
    "#### Add number of patients"
   ]
  },
  {
   "cell_type": "code",
   "execution_count": 31,
   "metadata": {},
   "outputs": [],
   "source": [
    "patient= full_data.groupby(['Provider','BeneID'])['BeneID'].count(). \\\n",
    "reset_index(name='NumOfPatients').groupby('Provider')['NumOfPatients']. \\\n",
    "count().reset_index()\n",
    "\n",
    "fraud2 = pd.merge(fraud2, patient, on='Provider')"
   ]
  },
  {
   "cell_type": "markdown",
   "metadata": {},
   "source": [
    "#### Add Type of Service"
   ]
  },
  {
   "cell_type": "code",
   "execution_count": 32,
   "metadata": {},
   "outputs": [],
   "source": [
    "a = full_data1.groupby(['Provider', 'patientType'])['BeneID'].count().reset_index(name='count').\\\n",
    "drop('count', axis=1)\n",
    "\n",
    "a_list= list(zip(a.Provider, a.patientType))\n",
    "\n",
    "providerDict= {}\n",
    "\n",
    "for ele in a_list:\n",
    "    if ele[0] not in providerDict:\n",
    "        providerDict[ele[0]]= ele[1]    \n",
    "    else:\n",
    "        providerDict[ele[0]] = 'both'\n",
    "        \n",
    "\n",
    "providerService = pd.DataFrame(providerDict.keys(), providerDict.values()).reset_index().\\\n",
    "rename(columns={'index':'ServiceType', 0:'Provider'})"
   ]
  },
  {
   "cell_type": "code",
   "execution_count": 33,
   "metadata": {},
   "outputs": [],
   "source": [
    "fraud2 = pd.merge(fraud2, providerService, on='Provider')"
   ]
  },
  {
   "cell_type": "markdown",
   "metadata": {},
   "source": [
    "#### Add number of claims"
   ]
  },
  {
   "cell_type": "code",
   "execution_count": 34,
   "metadata": {},
   "outputs": [],
   "source": [
    "claims= full_data1.groupby(['Provider', 'ClaimID'])['ClaimID'].count().\\\n",
    "reset_index(name='NumOfClms').groupby('Provider')['NumOfClms'].count().reset_index()\n",
    "\n",
    "fraud2 = pd.merge(fraud2, claims, on='Provider')"
   ]
  },
  {
   "cell_type": "code",
   "execution_count": 35,
   "metadata": {},
   "outputs": [],
   "source": [
    "fraud5 = fraud2.copy()"
   ]
  },
  {
   "cell_type": "markdown",
   "metadata": {},
   "source": [
    "#### Add weekly claims "
   ]
  },
  {
   "cell_type": "code",
   "execution_count": 36,
   "metadata": {},
   "outputs": [],
   "source": [
    "full_data1['startClaimWeek']= full_data1['ClaimStartDt'].dt.week"
   ]
  },
  {
   "cell_type": "code",
   "execution_count": 37,
   "metadata": {},
   "outputs": [],
   "source": [
    "weeklyClaims= full_data1.groupby(['Provider','startClaimWeek', 'ClaimID'])['ClaimID'].count().reset_index(name='WeeklyClaims').\\\n",
    "groupby(['Provider'])['WeeklyClaims'].count().reset_index()"
   ]
  },
  {
   "cell_type": "code",
   "execution_count": 38,
   "metadata": {},
   "outputs": [],
   "source": [
    "fraud5= pd.merge(fraud5, weeklyClaims, on='Provider', how='left')"
   ]
  },
  {
   "cell_type": "markdown",
   "metadata": {},
   "source": [
    "#### Add average duration of treatment per claims"
   ]
  },
  {
   "cell_type": "markdown",
   "metadata": {},
   "source": [
    "#### Add monthly claims"
   ]
  },
  {
   "cell_type": "code",
   "execution_count": 39,
   "metadata": {},
   "outputs": [],
   "source": [
    "full_data1['startClaimMonth'] = full_data1['ClaimStartDt'].dt.month\n",
    "\n",
    "monthly = full_data1.groupby(['Provider','startClaimMonth', 'ClaimID'])['ClaimID'].count().reset_index(name='MonthlyClaims').\\\n",
    "groupby(['Provider'])['MonthlyClaims'].count().reset_index()"
   ]
  },
  {
   "cell_type": "code",
   "execution_count": 40,
   "metadata": {},
   "outputs": [],
   "source": [
    "fraud5 = pd.merge(fraud5, monthly, on='Provider', how='left')"
   ]
  },
  {
   "cell_type": "markdown",
   "metadata": {},
   "source": [
    "#### Add number of states each provider operates in"
   ]
  },
  {
   "cell_type": "code",
   "execution_count": 41,
   "metadata": {},
   "outputs": [],
   "source": [
    "numStates = full_data1.groupby(['Provider', 'State'])['State'].count().reset_index(name='a').groupby('Provider')['State'].count().\\\n",
    "reset_index(name='numStates')"
   ]
  },
  {
   "cell_type": "code",
   "execution_count": 42,
   "metadata": {},
   "outputs": [],
   "source": [
    "fraud5 = pd.merge(fraud5, numStates, on='Provider')"
   ]
  },
  {
   "cell_type": "markdown",
   "metadata": {},
   "source": [
    "#### Add number of counties each provider operates in "
   ]
  },
  {
   "cell_type": "code",
   "execution_count": 43,
   "metadata": {},
   "outputs": [],
   "source": [
    "numCounties = full_data.groupby(['Provider', 'County'])['County'].count().reset_index(name='a'). \\\n",
    "groupby('Provider')['County'].count().reset_index(name='numCounties')"
   ]
  },
  {
   "cell_type": "code",
   "execution_count": 44,
   "metadata": {},
   "outputs": [],
   "source": [
    "fraud5 = pd.merge(fraud5, numCounties, on='Provider')"
   ]
  },
  {
   "cell_type": "code",
   "execution_count": 45,
   "metadata": {},
   "outputs": [],
   "source": [
    "fraud6 = fraud5.copy()"
   ]
  },
  {
   "cell_type": "markdown",
   "metadata": {},
   "source": [
    "#### Add average number of chronic conditions per provider"
   ]
  },
  {
   "cell_type": "code",
   "execution_count": 46,
   "metadata": {},
   "outputs": [],
   "source": [
    "patientChronic = full_data1.filter(regex='Chronic').replace(to_replace=2, value=0).sum(axis=1).\\\n",
    "reset_index(name='NumChronicCond')"
   ]
  },
  {
   "cell_type": "code",
   "execution_count": 47,
   "metadata": {
    "scrolled": true
   },
   "outputs": [],
   "source": [
    "chronic = pd.concat([patientChronic, full_data1[['Provider', 'ClaimID']]], axis=1)"
   ]
  },
  {
   "cell_type": "code",
   "execution_count": 48,
   "metadata": {},
   "outputs": [],
   "source": [
    "avgChronic = chronic.groupby(['Provider', 'NumChronicCond'])['ClaimID'].count().reset_index(name='NumClaims').\\\n",
    "groupby('Provider').agg({'NumChronicCond':'mean', 'NumClaims':'mean'}).reset_index().\\\n",
    "rename(columns={'NumChronicCond':'AvgChronic', 'NumClaims':'AvgClaim'})"
   ]
  },
  {
   "cell_type": "code",
   "execution_count": 49,
   "metadata": {},
   "outputs": [],
   "source": [
    "fraud6 = pd.merge(fraud6, avgChronic, on='Provider')"
   ]
  },
  {
   "cell_type": "markdown",
   "metadata": {},
   "source": [
    "#### Add number of claim admit diagnosis codes per provider "
   ]
  },
  {
   "cell_type": "code",
   "execution_count": 50,
   "metadata": {},
   "outputs": [],
   "source": [
    "numDiffDiagnosisCode= full_data1.groupby(['Provider', 'ClmAdmitDiagnosisCode'])['ClmAdmitDiagnosisCode'].count(). \\\n",
    "reset_index(name='a').groupby('Provider')['ClmAdmitDiagnosisCode'].count().reset_index(name='numDiffDiagnosisCode')"
   ]
  },
  {
   "cell_type": "code",
   "execution_count": 51,
   "metadata": {},
   "outputs": [],
   "source": [
    "fraud6 = pd.merge(fraud6, numDiffDiagnosisCode, on='Provider', how='left')"
   ]
  },
  {
   "cell_type": "markdown",
   "metadata": {},
   "source": [
    "#### Add number of group diagnosis codes per provider"
   ]
  },
  {
   "cell_type": "code",
   "execution_count": 52,
   "metadata": {},
   "outputs": [],
   "source": [
    "numDiffGroupDiagCode = full_data1.groupby(['Provider', 'DiagnosisGroupCode'])['DiagnosisGroupCode']. \\\n",
    "count().reset_index(name='a').groupby('Provider')['DiagnosisGroupCode']. \\\n",
    "count().reset_index(name='numDiffGroupDiagCode')"
   ]
  },
  {
   "cell_type": "code",
   "execution_count": 53,
   "metadata": {},
   "outputs": [],
   "source": [
    "fraud6 = pd.merge(fraud6, numDiffGroupDiagCode, on='Provider', how='left')"
   ]
  },
  {
   "cell_type": "markdown",
   "metadata": {},
   "source": [
    "## Jay's Features"
   ]
  },
  {
   "cell_type": "code",
   "execution_count": 54,
   "metadata": {},
   "outputs": [],
   "source": [
    "fraud7 = fraud6.copy()"
   ]
  },
  {
   "cell_type": "markdown",
   "metadata": {},
   "source": [
    "#### Adding average of patients' age per provider"
   ]
  },
  {
   "cell_type": "code",
   "execution_count": 55,
   "metadata": {},
   "outputs": [],
   "source": [
    "# Calculating the age of the patient at the time of their service\n",
    "full_data1['ClaimStartDt2'] =  pd.to_datetime(full_data1['ClaimStartDt'], format='%Y/%m/%d')\n",
    "full_data1['DOB'] =  pd.to_datetime(full_data1['DOB'], format='%Y/%m/%d')\n",
    "full_data1['AgeWhenServed'] = full_data1['ClaimStartDt'] - full_data1['DOB']"
   ]
  },
  {
   "cell_type": "code",
   "execution_count": 56,
   "metadata": {},
   "outputs": [],
   "source": [
    "# Converting the unit of AgeWhenServed to year from days\n",
    "full_data1['AgeWhenServed'] = full_data1['AgeWhenServed'] / np.timedelta64(1, 'Y')"
   ]
  },
  {
   "cell_type": "code",
   "execution_count": 57,
   "metadata": {},
   "outputs": [],
   "source": [
    "# Converting AgeWhenServed to int from float\n",
    "full_data1['AgeWhenServed'] = full_data1['AgeWhenServed'].fillna(-1)\n",
    "full_data1['AgeWhenServed'] = full_data1['AgeWhenServed'].astype(int)\n",
    "full_data1['AgeWhenServed'] = full_data1['AgeWhenServed'].replace(-1, np.nan)"
   ]
  },
  {
   "cell_type": "code",
   "execution_count": 58,
   "metadata": {
    "scrolled": true
   },
   "outputs": [],
   "source": [
    "avgage = full_data1.groupby(['Provider', 'BeneID'])['AgeWhenServed']. \\\n",
    "mean().reset_index(name = \"AvgAgeWhenServed\").dropna() \\\n",
    ".groupby('Provider')['AvgAgeWhenServed'].mean().reset_index()"
   ]
  },
  {
   "cell_type": "code",
   "execution_count": 59,
   "metadata": {},
   "outputs": [],
   "source": [
    "fraud7 = pd.merge(fraud7, avgage, on='Provider', how='left')"
   ]
  },
  {
   "cell_type": "markdown",
   "metadata": {},
   "source": [
    "#### Adding the count of Duplicated BeneID per Provider"
   ]
  },
  {
   "cell_type": "code",
   "execution_count": 60,
   "metadata": {},
   "outputs": [],
   "source": [
    "inpatient = full_data1.loc[full_data1.patientType == 'inpatient']\n",
    "outpatient = full_data1.loc[full_data1.patientType == 'outpatient']"
   ]
  },
  {
   "cell_type": "code",
   "execution_count": 61,
   "metadata": {},
   "outputs": [],
   "source": [
    "# Dataframe of duplicated data for inpatients\n",
    "inpatient_d = inpatient[inpatient.duplicated(['ClmAdmitDiagnosisCode', \\\n",
    "                                              'DiagnosisGroupCode', \\\n",
    "                                              'ClmDiagnosisCode_1', \\\n",
    "                                              'ClmDiagnosisCode_2', \\\n",
    "                                              'ClmDiagnosisCode_3', \\\n",
    "                                              'ClmDiagnosisCode_4', \\\n",
    "                                              'ClmDiagnosisCode_5', \\\n",
    "                                              'ClmDiagnosisCode_6', \\\n",
    "                                              'ClmDiagnosisCode_7', \\\n",
    "                                              'ClmDiagnosisCode_8', \\\n",
    "                                              'ClmDiagnosisCode_9', \\\n",
    "                                              'ClmDiagnosisCode_10', \\\n",
    "                                              'ClmProcedureCode_1', \\\n",
    "                                              'ClmProcedureCode_2', \\\n",
    "                                              'ClmProcedureCode_3', \\\n",
    "                                              'ClmProcedureCode_4', \\\n",
    "                                              'ClmProcedureCode_5', \\\n",
    "                                              'ClmProcedureCode_6'], \\\n",
    "                                             keep = False)]"
   ]
  },
  {
   "cell_type": "code",
   "execution_count": 62,
   "metadata": {},
   "outputs": [],
   "source": [
    "# Dataframe of duplicated data for inpatients\n",
    "outpatient_d = outpatient[outpatient.duplicated(['ClmAdmitDiagnosisCode', \\\n",
    "                                              'DiagnosisGroupCode', \\\n",
    "                                              'ClmDiagnosisCode_1', \\\n",
    "                                              'ClmDiagnosisCode_2', \\\n",
    "                                              'ClmDiagnosisCode_3', \\\n",
    "                                              'ClmDiagnosisCode_4', \\\n",
    "                                              'ClmDiagnosisCode_5', \\\n",
    "                                              'ClmDiagnosisCode_6', \\\n",
    "                                              'ClmDiagnosisCode_7', \\\n",
    "                                              'ClmDiagnosisCode_8', \\\n",
    "                                              'ClmDiagnosisCode_9', \\\n",
    "                                              'ClmDiagnosisCode_10', \\\n",
    "                                              'ClmProcedureCode_1', \\\n",
    "                                              'ClmProcedureCode_2', \\\n",
    "                                              'ClmProcedureCode_3', \\\n",
    "                                              'ClmProcedureCode_4', \\\n",
    "                                              'ClmProcedureCode_5', \\\n",
    "                                              'ClmProcedureCode_6'], \\\n",
    "                                             keep = False)]"
   ]
  },
  {
   "cell_type": "code",
   "execution_count": 63,
   "metadata": {},
   "outputs": [],
   "source": [
    "# totalpatient_d = Duplicated inpatient + Duplicated outpatient\n",
    "totalpatient_d = pd.concat([inpatient_d, outpatient_d], axis=0)"
   ]
  },
  {
   "cell_type": "code",
   "execution_count": 64,
   "metadata": {},
   "outputs": [],
   "source": [
    "duplicatedBeneID = totalpatient_d.groupby('Provider')['BeneID'].value_counts().reset_index(name = \"ValueCount\")\n",
    "duplicatedBeneID = duplicatedBeneID.loc[duplicatedBeneID['ValueCount'] > 1]\n",
    "duplicatedBeneID = duplicatedBeneID.groupby('Provider')['BeneID'].count().reset_index(name = \"NumOfDuplicatedBeneID\")"
   ]
  },
  {
   "cell_type": "code",
   "execution_count": 65,
   "metadata": {},
   "outputs": [],
   "source": [
    "fraud7 = pd.merge(fraud7, duplicatedBeneID, on='Provider', how='left')"
   ]
  },
  {
   "cell_type": "code",
   "execution_count": 66,
   "metadata": {},
   "outputs": [],
   "source": [
    "fraud7['NumOfDuplicatedBeneID'].fillna(0, inplace=True)"
   ]
  },
  {
   "cell_type": "markdown",
   "metadata": {},
   "source": [
    "#### Adding count of duplicated attending physician per provider"
   ]
  },
  {
   "cell_type": "code",
   "execution_count": 67,
   "metadata": {},
   "outputs": [],
   "source": [
    "duplicatedPhysician = totalpatient_d.groupby('Provider')['AttendingPhysician'].value_counts().reset_index(name = \"ValueCount\")\n",
    "duplicatedPhysician = duplicatedPhysician.loc[duplicatedPhysician['ValueCount'] > 1]\n",
    "duplicatedPhysician = duplicatedPhysician.groupby('Provider')['AttendingPhysician'].count().reset_index(name = \"NumOfDuplicatedAttendingPhysician\")"
   ]
  },
  {
   "cell_type": "code",
   "execution_count": 68,
   "metadata": {},
   "outputs": [],
   "source": [
    "fraud7 = pd.merge(fraud7, duplicatedPhysician, on='Provider', how='left')\n",
    "fraud7['NumOfDuplicatedAttendingPhysician'].fillna(0, inplace=True)"
   ]
  },
  {
   "cell_type": "markdown",
   "metadata": {},
   "source": [
    "#### Adding count of duplicated claims per provider"
   ]
  },
  {
   "cell_type": "code",
   "execution_count": 69,
   "metadata": {},
   "outputs": [],
   "source": [
    "duplicatedClaims = totalpatient_d.groupby('Provider').agg({'ClaimID' : 'count'}).reset_index()\n",
    "duplicatedClaims = duplicatedClaims.rename({'ClaimID' : 'NumOfDuplicatedClaims'}, axis=1)"
   ]
  },
  {
   "cell_type": "code",
   "execution_count": 70,
   "metadata": {},
   "outputs": [],
   "source": [
    "fraud7 = pd.merge(fraud7, duplicatedClaims, on='Provider', how='left')\n",
    "fraud7['NumOfDuplicatedClaims'].fillna(0, inplace=True)"
   ]
  },
  {
   "cell_type": "markdown",
   "metadata": {},
   "source": [
    "#### Adding the count of patients with different number of chronic conditions"
   ]
  },
  {
   "cell_type": "code",
   "execution_count": 71,
   "metadata": {},
   "outputs": [],
   "source": [
    "fraud8 = fraud7.copy()"
   ]
  },
  {
   "cell_type": "code",
   "execution_count": 72,
   "metadata": {},
   "outputs": [],
   "source": [
    "full_data2 = full_data1.copy()"
   ]
  },
  {
   "cell_type": "code",
   "execution_count": 73,
   "metadata": {},
   "outputs": [],
   "source": [
    "full_data2 = full_data2.replace({'RenalDiseaseIndicator' : 'Y'}, 1)\n",
    "\n",
    "full_data2['RenalDiseaseIndicator'] = full_data2['RenalDiseaseIndicator'].astype(int)"
   ]
  },
  {
   "cell_type": "code",
   "execution_count": 74,
   "metadata": {},
   "outputs": [],
   "source": [
    "full_data2 = full_data2.replace({'ChronicCond_Alzheimer' : 2,'ChronicCond_Heartfailure' : 2,'ChronicCond_KidneyDisease' : 2,'ChronicCond_Cancer' : 2,'ChronicCond_ObstrPulmonary' : 2,'ChronicCond_Depression' : 2,'ChronicCond_Diabetes' : 2,'ChronicCond_IschemicHeart' : 2,'ChronicCond_Osteoporasis' : 2,'ChronicCond_rheumatoidarthritis' : 2,'ChronicCond_stroke' : 2}, 0)"
   ]
  },
  {
   "cell_type": "code",
   "execution_count": 75,
   "metadata": {
    "scrolled": true
   },
   "outputs": [],
   "source": [
    "full_data2['NumChronicCond'] = full_data2['ChronicCond_Alzheimer']+full_data2['ChronicCond_Heartfailure']+full_data2['ChronicCond_KidneyDisease']+full_data2['ChronicCond_Cancer']+full_data2['ChronicCond_ObstrPulmonary']+full_data2['ChronicCond_Depression']+full_data2['ChronicCond_Diabetes']+full_data2['ChronicCond_IschemicHeart']+full_data2['ChronicCond_Osteoporasis']+full_data2['ChronicCond_rheumatoidarthritis']+full_data2['ChronicCond_stroke']+full_data2['RenalDiseaseIndicator']"
   ]
  },
  {
   "cell_type": "code",
   "execution_count": 76,
   "metadata": {},
   "outputs": [],
   "source": [
    "chronicConditions = full_data2.groupby(['Provider', 'BeneID'])['NumChronicCond'].value_counts().reset_index(name = 'NumChronicCondCount')\n",
    "chronicConditions['NumChronicCondCount'] = chronicConditions['NumChronicCondCount'].apply(lambda x: 1 if x >= 1 else 0)\n",
    "chronicConditions = chronicConditions.groupby('Provider')['NumChronicCond'].value_counts().reset_index(name = 'NumChronicCondCount')"
   ]
  },
  {
   "cell_type": "code",
   "execution_count": 77,
   "metadata": {},
   "outputs": [
    {
     "data": {
      "text/html": [
       "<div>\n",
       "<style scoped>\n",
       "    .dataframe tbody tr th:only-of-type {\n",
       "        vertical-align: middle;\n",
       "    }\n",
       "\n",
       "    .dataframe tbody tr th {\n",
       "        vertical-align: top;\n",
       "    }\n",
       "\n",
       "    .dataframe thead th {\n",
       "        text-align: right;\n",
       "    }\n",
       "</style>\n",
       "<table border=\"1\" class=\"dataframe\">\n",
       "  <thead>\n",
       "    <tr style=\"text-align: right;\">\n",
       "      <th>NumChronicCond</th>\n",
       "      <th>Provider</th>\n",
       "      <th>ChronicCond0</th>\n",
       "      <th>ChronicCond1</th>\n",
       "      <th>ChronicCond2</th>\n",
       "      <th>ChronicCond3</th>\n",
       "      <th>ChronicCond4</th>\n",
       "      <th>ChronicCond5</th>\n",
       "      <th>ChronicCond6</th>\n",
       "      <th>ChronicCond7</th>\n",
       "      <th>ChronicCond8</th>\n",
       "      <th>ChronicCond9</th>\n",
       "      <th>ChronicCond10</th>\n",
       "      <th>ChronicCond11</th>\n",
       "      <th>ChronicCond12</th>\n",
       "    </tr>\n",
       "  </thead>\n",
       "  <tbody>\n",
       "    <tr>\n",
       "      <td>0</td>\n",
       "      <td>PRV51001</td>\n",
       "      <td>0.0</td>\n",
       "      <td>1.0</td>\n",
       "      <td>0.0</td>\n",
       "      <td>2.0</td>\n",
       "      <td>4.0</td>\n",
       "      <td>2.0</td>\n",
       "      <td>6.0</td>\n",
       "      <td>4.0</td>\n",
       "      <td>3.0</td>\n",
       "      <td>1.0</td>\n",
       "      <td>0.0</td>\n",
       "      <td>1.0</td>\n",
       "      <td>0.0</td>\n",
       "    </tr>\n",
       "    <tr>\n",
       "      <td>1</td>\n",
       "      <td>PRV51003</td>\n",
       "      <td>7.0</td>\n",
       "      <td>1.0</td>\n",
       "      <td>14.0</td>\n",
       "      <td>22.0</td>\n",
       "      <td>15.0</td>\n",
       "      <td>20.0</td>\n",
       "      <td>12.0</td>\n",
       "      <td>11.0</td>\n",
       "      <td>8.0</td>\n",
       "      <td>5.0</td>\n",
       "      <td>2.0</td>\n",
       "      <td>0.0</td>\n",
       "      <td>0.0</td>\n",
       "    </tr>\n",
       "    <tr>\n",
       "      <td>2</td>\n",
       "      <td>PRV51004</td>\n",
       "      <td>8.0</td>\n",
       "      <td>12.0</td>\n",
       "      <td>13.0</td>\n",
       "      <td>27.0</td>\n",
       "      <td>11.0</td>\n",
       "      <td>16.0</td>\n",
       "      <td>18.0</td>\n",
       "      <td>11.0</td>\n",
       "      <td>12.0</td>\n",
       "      <td>8.0</td>\n",
       "      <td>2.0</td>\n",
       "      <td>0.0</td>\n",
       "      <td>0.0</td>\n",
       "    </tr>\n",
       "    <tr>\n",
       "      <td>3</td>\n",
       "      <td>PRV51005</td>\n",
       "      <td>38.0</td>\n",
       "      <td>52.0</td>\n",
       "      <td>57.0</td>\n",
       "      <td>72.0</td>\n",
       "      <td>69.0</td>\n",
       "      <td>55.0</td>\n",
       "      <td>59.0</td>\n",
       "      <td>48.0</td>\n",
       "      <td>27.0</td>\n",
       "      <td>17.0</td>\n",
       "      <td>1.0</td>\n",
       "      <td>0.0</td>\n",
       "      <td>0.0</td>\n",
       "    </tr>\n",
       "    <tr>\n",
       "      <td>4</td>\n",
       "      <td>PRV51007</td>\n",
       "      <td>5.0</td>\n",
       "      <td>5.0</td>\n",
       "      <td>8.0</td>\n",
       "      <td>7.0</td>\n",
       "      <td>8.0</td>\n",
       "      <td>8.0</td>\n",
       "      <td>5.0</td>\n",
       "      <td>6.0</td>\n",
       "      <td>6.0</td>\n",
       "      <td>0.0</td>\n",
       "      <td>0.0</td>\n",
       "      <td>0.0</td>\n",
       "      <td>0.0</td>\n",
       "    </tr>\n",
       "    <tr>\n",
       "      <td>...</td>\n",
       "      <td>...</td>\n",
       "      <td>...</td>\n",
       "      <td>...</td>\n",
       "      <td>...</td>\n",
       "      <td>...</td>\n",
       "      <td>...</td>\n",
       "      <td>...</td>\n",
       "      <td>...</td>\n",
       "      <td>...</td>\n",
       "      <td>...</td>\n",
       "      <td>...</td>\n",
       "      <td>...</td>\n",
       "      <td>...</td>\n",
       "      <td>...</td>\n",
       "    </tr>\n",
       "    <tr>\n",
       "      <td>5405</td>\n",
       "      <td>PRV57759</td>\n",
       "      <td>0.0</td>\n",
       "      <td>1.0</td>\n",
       "      <td>1.0</td>\n",
       "      <td>4.0</td>\n",
       "      <td>1.0</td>\n",
       "      <td>7.0</td>\n",
       "      <td>3.0</td>\n",
       "      <td>3.0</td>\n",
       "      <td>0.0</td>\n",
       "      <td>3.0</td>\n",
       "      <td>1.0</td>\n",
       "      <td>0.0</td>\n",
       "      <td>0.0</td>\n",
       "    </tr>\n",
       "    <tr>\n",
       "      <td>5406</td>\n",
       "      <td>PRV57760</td>\n",
       "      <td>0.0</td>\n",
       "      <td>0.0</td>\n",
       "      <td>2.0</td>\n",
       "      <td>4.0</td>\n",
       "      <td>1.0</td>\n",
       "      <td>0.0</td>\n",
       "      <td>1.0</td>\n",
       "      <td>0.0</td>\n",
       "      <td>1.0</td>\n",
       "      <td>0.0</td>\n",
       "      <td>0.0</td>\n",
       "      <td>0.0</td>\n",
       "      <td>0.0</td>\n",
       "    </tr>\n",
       "    <tr>\n",
       "      <td>5407</td>\n",
       "      <td>PRV57761</td>\n",
       "      <td>2.0</td>\n",
       "      <td>5.0</td>\n",
       "      <td>9.0</td>\n",
       "      <td>6.0</td>\n",
       "      <td>9.0</td>\n",
       "      <td>7.0</td>\n",
       "      <td>6.0</td>\n",
       "      <td>8.0</td>\n",
       "      <td>6.0</td>\n",
       "      <td>7.0</td>\n",
       "      <td>2.0</td>\n",
       "      <td>0.0</td>\n",
       "      <td>0.0</td>\n",
       "    </tr>\n",
       "    <tr>\n",
       "      <td>5408</td>\n",
       "      <td>PRV57762</td>\n",
       "      <td>0.0</td>\n",
       "      <td>0.0</td>\n",
       "      <td>0.0</td>\n",
       "      <td>0.0</td>\n",
       "      <td>0.0</td>\n",
       "      <td>1.0</td>\n",
       "      <td>0.0</td>\n",
       "      <td>0.0</td>\n",
       "      <td>0.0</td>\n",
       "      <td>0.0</td>\n",
       "      <td>0.0</td>\n",
       "      <td>0.0</td>\n",
       "      <td>0.0</td>\n",
       "    </tr>\n",
       "    <tr>\n",
       "      <td>5409</td>\n",
       "      <td>PRV57763</td>\n",
       "      <td>5.0</td>\n",
       "      <td>7.0</td>\n",
       "      <td>9.0</td>\n",
       "      <td>6.0</td>\n",
       "      <td>10.0</td>\n",
       "      <td>11.0</td>\n",
       "      <td>9.0</td>\n",
       "      <td>6.0</td>\n",
       "      <td>2.0</td>\n",
       "      <td>3.0</td>\n",
       "      <td>1.0</td>\n",
       "      <td>1.0</td>\n",
       "      <td>0.0</td>\n",
       "    </tr>\n",
       "  </tbody>\n",
       "</table>\n",
       "<p>5410 rows × 14 columns</p>\n",
       "</div>"
      ],
      "text/plain": [
       "NumChronicCond  Provider  ChronicCond0  ChronicCond1  ChronicCond2  \\\n",
       "0               PRV51001           0.0           1.0           0.0   \n",
       "1               PRV51003           7.0           1.0          14.0   \n",
       "2               PRV51004           8.0          12.0          13.0   \n",
       "3               PRV51005          38.0          52.0          57.0   \n",
       "4               PRV51007           5.0           5.0           8.0   \n",
       "...                  ...           ...           ...           ...   \n",
       "5405            PRV57759           0.0           1.0           1.0   \n",
       "5406            PRV57760           0.0           0.0           2.0   \n",
       "5407            PRV57761           2.0           5.0           9.0   \n",
       "5408            PRV57762           0.0           0.0           0.0   \n",
       "5409            PRV57763           5.0           7.0           9.0   \n",
       "\n",
       "NumChronicCond  ChronicCond3  ChronicCond4  ChronicCond5  ChronicCond6  \\\n",
       "0                        2.0           4.0           2.0           6.0   \n",
       "1                       22.0          15.0          20.0          12.0   \n",
       "2                       27.0          11.0          16.0          18.0   \n",
       "3                       72.0          69.0          55.0          59.0   \n",
       "4                        7.0           8.0           8.0           5.0   \n",
       "...                      ...           ...           ...           ...   \n",
       "5405                     4.0           1.0           7.0           3.0   \n",
       "5406                     4.0           1.0           0.0           1.0   \n",
       "5407                     6.0           9.0           7.0           6.0   \n",
       "5408                     0.0           0.0           1.0           0.0   \n",
       "5409                     6.0          10.0          11.0           9.0   \n",
       "\n",
       "NumChronicCond  ChronicCond7  ChronicCond8  ChronicCond9  ChronicCond10  \\\n",
       "0                        4.0           3.0           1.0            0.0   \n",
       "1                       11.0           8.0           5.0            2.0   \n",
       "2                       11.0          12.0           8.0            2.0   \n",
       "3                       48.0          27.0          17.0            1.0   \n",
       "4                        6.0           6.0           0.0            0.0   \n",
       "...                      ...           ...           ...            ...   \n",
       "5405                     3.0           0.0           3.0            1.0   \n",
       "5406                     0.0           1.0           0.0            0.0   \n",
       "5407                     8.0           6.0           7.0            2.0   \n",
       "5408                     0.0           0.0           0.0            0.0   \n",
       "5409                     6.0           2.0           3.0            1.0   \n",
       "\n",
       "NumChronicCond  ChronicCond11  ChronicCond12  \n",
       "0                         1.0            0.0  \n",
       "1                         0.0            0.0  \n",
       "2                         0.0            0.0  \n",
       "3                         0.0            0.0  \n",
       "4                         0.0            0.0  \n",
       "...                       ...            ...  \n",
       "5405                      0.0            0.0  \n",
       "5406                      0.0            0.0  \n",
       "5407                      0.0            0.0  \n",
       "5408                      0.0            0.0  \n",
       "5409                      1.0            0.0  \n",
       "\n",
       "[5410 rows x 14 columns]"
      ]
     },
     "execution_count": 77,
     "metadata": {},
     "output_type": "execute_result"
    }
   ],
   "source": [
    "chronicConditions = chronicConditions.groupby(['Provider', 'NumChronicCond']).NumChronicCondCount.sum()\n",
    "chronicConditions = chronicConditions.unstack(level='NumChronicCond').reset_index()\n",
    "chronicConditions = chronicConditions.rename({0 : 'ChronicCond0', \n",
    "                                              1 : 'ChronicCond1', \n",
    "                                              2 : 'ChronicCond2',\n",
    "                                              3 : 'ChronicCond3',\n",
    "                                              4 : 'ChronicCond4',\n",
    "                                              5 : 'ChronicCond5',\n",
    "                                              6 : 'ChronicCond6',\n",
    "                                              7 : 'ChronicCond7',\n",
    "                                              8 : 'ChronicCond8',\n",
    "                                              9 : 'ChronicCond9',\n",
    "                                              10 : 'ChronicCond10',\n",
    "                                              11 : 'ChronicCond11',\n",
    "                                              12 : 'ChronicCond12'}, axis=1)\n",
    "chronicConditions.fillna(0, inplace=True)\n",
    "chronicConditions"
   ]
  },
  {
   "cell_type": "code",
   "execution_count": 78,
   "metadata": {},
   "outputs": [],
   "source": [
    "fraud8 = pd.merge(fraud8, chronicConditions, on = 'Provider', how = 'left')"
   ]
  },
  {
   "cell_type": "markdown",
   "metadata": {},
   "source": [
    "#### Adding counts of each gender of patients per provider"
   ]
  },
  {
   "cell_type": "code",
   "execution_count": 79,
   "metadata": {},
   "outputs": [],
   "source": [
    "gender = full_data1.groupby(['Provider', 'BeneID', 'Gender'])['Gender'].count().reset_index(name = 'GenderCount')\n",
    "gender['GenderCount'] = gender['GenderCount'].apply(lambda x: 1 if x >= 1 else 0)\n",
    "gender = gender.groupby('Provider')['Gender'].value_counts().reset_index(name = 'GenderCount')"
   ]
  },
  {
   "cell_type": "code",
   "execution_count": 80,
   "metadata": {},
   "outputs": [
    {
     "name": "stderr",
     "output_type": "stream",
     "text": [
      "/opt/anaconda3/lib/python3.7/site-packages/ipykernel_launcher.py:8: SettingWithCopyWarning: \n",
      "A value is trying to be set on a copy of a slice from a DataFrame\n",
      "\n",
      "See the caveats in the documentation: http://pandas.pydata.org/pandas-docs/stable/user_guide/indexing.html#returning-a-view-versus-a-copy\n",
      "  \n",
      "/opt/anaconda3/lib/python3.7/site-packages/ipykernel_launcher.py:6: SettingWithCopyWarning: \n",
      "A value is trying to be set on a copy of a slice from a DataFrame\n",
      "\n",
      "See the caveats in the documentation: http://pandas.pydata.org/pandas-docs/stable/user_guide/indexing.html#returning-a-view-versus-a-copy\n",
      "  \n"
     ]
    }
   ],
   "source": [
    "gender['Gender1'] = 0\n",
    "gender['Gender2'] = 0\n",
    "\n",
    "for index in gender.index:\n",
    "    if gender['Gender'][index] == 1:\n",
    "        gender['Gender1'][index] += gender['GenderCount'][index]\n",
    "    if gender['Gender'][index] == 2:\n",
    "        gender['Gender2'][index] += gender['GenderCount'][index]"
   ]
  },
  {
   "cell_type": "code",
   "execution_count": 81,
   "metadata": {},
   "outputs": [],
   "source": [
    "gender = gender.drop('Gender', axis = 1)\n",
    "gender = gender.drop('GenderCount', axis = 1)"
   ]
  },
  {
   "cell_type": "code",
   "execution_count": 82,
   "metadata": {},
   "outputs": [],
   "source": [
    "genderCount = gender.groupby('Provider').agg({'Gender1' : 'sum', 'Gender2' : 'sum'}).reset_index()"
   ]
  },
  {
   "cell_type": "code",
   "execution_count": 83,
   "metadata": {},
   "outputs": [],
   "source": [
    "fraud8 = pd.merge(fraud8, genderCount, on = 'Provider', how = 'left')"
   ]
  },
  {
   "cell_type": "markdown",
   "metadata": {},
   "source": [
    "#### Adding counts of each race of patients per provider"
   ]
  },
  {
   "cell_type": "code",
   "execution_count": 84,
   "metadata": {},
   "outputs": [],
   "source": [
    "race = full_data1.groupby(['Provider', 'BeneID', 'Race'])['Race'].count().reset_index(name = 'RaceCount')\n",
    "race['RaceCount'] = race['RaceCount'].apply(lambda x: 1 if x >= 1 else 0)\n",
    "race = race.groupby('Provider')['Race'].value_counts().reset_index(name = 'RaceCount')"
   ]
  },
  {
   "cell_type": "code",
   "execution_count": 85,
   "metadata": {},
   "outputs": [
    {
     "name": "stderr",
     "output_type": "stream",
     "text": [
      "/opt/anaconda3/lib/python3.7/site-packages/ipykernel_launcher.py:8: SettingWithCopyWarning: \n",
      "A value is trying to be set on a copy of a slice from a DataFrame\n",
      "\n",
      "See the caveats in the documentation: http://pandas.pydata.org/pandas-docs/stable/user_guide/indexing.html#returning-a-view-versus-a-copy\n",
      "  \n",
      "/opt/anaconda3/lib/python3.7/site-packages/ipykernel_launcher.py:10: SettingWithCopyWarning: \n",
      "A value is trying to be set on a copy of a slice from a DataFrame\n",
      "\n",
      "See the caveats in the documentation: http://pandas.pydata.org/pandas-docs/stable/user_guide/indexing.html#returning-a-view-versus-a-copy\n",
      "  # Remove the CWD from sys.path while we load stuff.\n",
      "/opt/anaconda3/lib/python3.7/site-packages/ipykernel_launcher.py:14: SettingWithCopyWarning: \n",
      "A value is trying to be set on a copy of a slice from a DataFrame\n",
      "\n",
      "See the caveats in the documentation: http://pandas.pydata.org/pandas-docs/stable/user_guide/indexing.html#returning-a-view-versus-a-copy\n",
      "  \n",
      "/opt/anaconda3/lib/python3.7/site-packages/ipykernel_launcher.py:12: SettingWithCopyWarning: \n",
      "A value is trying to be set on a copy of a slice from a DataFrame\n",
      "\n",
      "See the caveats in the documentation: http://pandas.pydata.org/pandas-docs/stable/user_guide/indexing.html#returning-a-view-versus-a-copy\n",
      "  if sys.path[0] == '':\n"
     ]
    }
   ],
   "source": [
    "race['Race1'] = 0\n",
    "race['Race2'] = 0\n",
    "race['Race3'] = 0\n",
    "race['Race5'] = 0\n",
    "\n",
    "for index in race.index:\n",
    "    if race['Race'][index] == 1:\n",
    "        race['Race1'][index] += race['RaceCount'][index]\n",
    "    if race['Race'][index] == 2:\n",
    "        race['Race2'][index] += race['RaceCount'][index]\n",
    "    if race['Race'][index] == 3:\n",
    "        race['Race3'][index] += race['RaceCount'][index]\n",
    "    if race['Race'][index] == 5:\n",
    "        race['Race5'][index] += race['RaceCount'][index]"
   ]
  },
  {
   "cell_type": "code",
   "execution_count": 86,
   "metadata": {},
   "outputs": [],
   "source": [
    "race = race.drop('Race', axis = 1)\n",
    "race = race.drop('RaceCount', axis = 1)"
   ]
  },
  {
   "cell_type": "code",
   "execution_count": 87,
   "metadata": {},
   "outputs": [],
   "source": [
    "raceCount = race.groupby('Provider').agg({'Race1' : 'sum', 'Race2' : 'sum', 'Race3' : 'sum', 'Race5' : 'sum'}).reset_index()"
   ]
  },
  {
   "cell_type": "code",
   "execution_count": 88,
   "metadata": {},
   "outputs": [],
   "source": [
    "fraud8 = pd.merge(fraud8, raceCount, on = 'Provider', how = 'left')"
   ]
  },
  {
   "cell_type": "markdown",
   "metadata": {},
   "source": [
    "#### Replace na values with 0"
   ]
  },
  {
   "cell_type": "code",
   "execution_count": 89,
   "metadata": {},
   "outputs": [],
   "source": [
    "fraud9 = fraud8.copy()"
   ]
  },
  {
   "cell_type": "code",
   "execution_count": 90,
   "metadata": {},
   "outputs": [],
   "source": [
    "fraud9 = fraud9.replace(np.nan,0)"
   ]
  },
  {
   "cell_type": "markdown",
   "metadata": {},
   "source": [
    "### Pickling Dataset"
   ]
  },
  {
   "cell_type": "code",
   "execution_count": 140,
   "metadata": {},
   "outputs": [],
   "source": [
    "fraud9.to_pickle('train_dataset.pkl')"
   ]
  },
  {
   "cell_type": "markdown",
   "metadata": {},
   "source": [
    "## Feature Engineering: Round 2\n",
    "### - After Performing Random Trees Feature Selection"
   ]
  },
  {
   "cell_type": "code",
   "execution_count": 92,
   "metadata": {},
   "outputs": [],
   "source": [
    "train_data = fraud9.copy()"
   ]
  },
  {
   "cell_type": "code",
   "execution_count": 94,
   "metadata": {},
   "outputs": [],
   "source": [
    "#dropping columns after performing Random Trees feature importance \n",
    "\n",
    "train_data.drop(['WeeklyClaims', 'MonthlyClaims', 'IPAnnualReimbursementAmt', 'IPAnnualDeductibleAmt',\n",
    "                'OPAnnualReimbursementAmt', 'OPAnnualDeductibleAmt', 'DeductibleAmtPaid',\n",
    "                'InscClaimAmtReimbursed'], axis=1, inplace=True)"
   ]
  },
  {
   "cell_type": "markdown",
   "metadata": {},
   "source": [
    "#### New Feature: Number of Distinct Operating Physicians per provider"
   ]
  },
  {
   "cell_type": "code",
   "execution_count": 96,
   "metadata": {},
   "outputs": [],
   "source": [
    "opPhy = full_data1.groupby(['Provider', 'OperatingPhysician'])['OperatingPhysician'].count().reset_index(name='a').\\\n",
    "groupby('Provider')['a'].count().reset_index(name= 'NumDistincOpPhy')"
   ]
  },
  {
   "cell_type": "code",
   "execution_count": 98,
   "metadata": {},
   "outputs": [],
   "source": [
    "train_data = pd.merge(train_data, opPhy, on = 'Provider', how = 'left')"
   ]
  },
  {
   "cell_type": "markdown",
   "metadata": {},
   "source": [
    "#### Number of Distinct \"Other Physicians\" per provider "
   ]
  },
  {
   "cell_type": "code",
   "execution_count": 100,
   "metadata": {},
   "outputs": [],
   "source": [
    "otherPhy = full_data1.groupby(['Provider', 'OtherPhysician'])['OtherPhysician'].count().reset_index(name='a').\\\n",
    "groupby('Provider')['a'].count().reset_index(name= 'NumDistincOtherPhy')"
   ]
  },
  {
   "cell_type": "code",
   "execution_count": 102,
   "metadata": {},
   "outputs": [],
   "source": [
    "train_data = pd.merge(train_data, otherPhy, on = 'Provider', how = 'left')"
   ]
  },
  {
   "cell_type": "markdown",
   "metadata": {},
   "source": [
    "#### Number of Distinct Claim Diagnosis Codes per provider"
   ]
  },
  {
   "cell_type": "code",
   "execution_count": 104,
   "metadata": {},
   "outputs": [],
   "source": [
    "diagCode1 = full_data1.groupby(['Provider', 'ClmDiagnosisCode_1'])['ClmDiagnosisCode_1'].count().reset_index(name='a').\\\n",
    "groupby('Provider')['a'].count().reset_index(name= 'NumDistincClmDiagCode1')\n",
    "\n",
    "diagCode2 = full_data1.groupby(['Provider', 'ClmDiagnosisCode_2'])['ClmDiagnosisCode_2'].count().reset_index(name='a').\\\n",
    "groupby('Provider')['a'].count().reset_index(name= 'NumDistincClmDiagCode2')\n",
    "\n",
    "diagCode3 = full_data1.groupby(['Provider', 'ClmDiagnosisCode_3'])['ClmDiagnosisCode_3'].count().reset_index(name='a').\\\n",
    "groupby('Provider')['a'].count().reset_index(name= 'NumDistincClmDiagCode3')\n",
    "\n",
    "diagCode4 = full_data1.groupby(['Provider', 'ClmDiagnosisCode_4'])['ClmDiagnosisCode_4'].count().reset_index(name='a').\\\n",
    "groupby('Provider')['a'].count().reset_index(name= 'NumDistincClmDiagCode4')\n",
    "\n",
    "diagCode5 = full_data1.groupby(['Provider', 'ClmDiagnosisCode_5'])['ClmDiagnosisCode_5'].count().reset_index(name='a').\\\n",
    "groupby('Provider')['a'].count().reset_index(name= 'NumDistincClmDiagCode5')\n",
    "\n",
    "diagCode6= full_data1.groupby(['Provider', 'ClmDiagnosisCode_6'])['ClmDiagnosisCode_6'].count().reset_index(name='a').\\\n",
    "groupby('Provider')['a'].count().reset_index(name= 'NumDistincClmDiagCode6')\n",
    "\n",
    "diagCode7 = full_data1.groupby(['Provider', 'ClmDiagnosisCode_7'])['ClmDiagnosisCode_7'].count().reset_index(name='a').\\\n",
    "groupby('Provider')['a'].count().reset_index(name= 'NumDistincClmDiagCode7')\n",
    "\n",
    "diagCode8 = full_data1.groupby(['Provider', 'ClmDiagnosisCode_8'])['ClmDiagnosisCode_8'].count().reset_index(name='a').\\\n",
    "groupby('Provider')['a'].count().reset_index(name= 'NumDistincClmDiagCode8')\n",
    "\n",
    "diagCode9 = full_data1.groupby(['Provider', 'ClmDiagnosisCode_9'])['ClmDiagnosisCode_9'].count().reset_index(name='a').\\\n",
    "groupby('Provider')['a'].count().reset_index(name= 'NumDistincClmDiagCode9')\n",
    "\n",
    "diagCode10 = full_data1.groupby(['Provider', 'ClmDiagnosisCode_10'])['ClmDiagnosisCode_10'].count().reset_index(name='a').\\\n",
    "groupby('Provider')['a'].count().reset_index(name= 'NumDistincClmDiagCode10')"
   ]
  },
  {
   "cell_type": "code",
   "execution_count": 105,
   "metadata": {},
   "outputs": [],
   "source": [
    "train_data = pd.merge(train_data, diagCode1, on='Provider', how='left')\n",
    "train_data = pd.merge(train_data, diagCode2, on='Provider', how='left')\n",
    "train_data = pd.merge(train_data, diagCode3, on='Provider', how='left')\n",
    "train_data = pd.merge(train_data, diagCode4, on='Provider', how='left')\n",
    "train_data = pd.merge(train_data, diagCode5, on='Provider', how='left')\n",
    "train_data = pd.merge(train_data, diagCode6, on='Provider', how='left')\n",
    "train_data = pd.merge(train_data, diagCode7, on='Provider', how='left')\n",
    "train_data = pd.merge(train_data, diagCode8, on='Provider', how='left')\n",
    "train_data = pd.merge(train_data, diagCode9, on='Provider', how='left')\n",
    "train_data = pd.merge(train_data, diagCode10, on='Provider', how='left')"
   ]
  },
  {
   "cell_type": "markdown",
   "metadata": {},
   "source": [
    "#### Number of Distinct Procedure Diagnosis Codes per provider"
   ]
  },
  {
   "cell_type": "code",
   "execution_count": 107,
   "metadata": {},
   "outputs": [],
   "source": [
    "proCode1= full_data1.groupby(['Provider', 'ClmProcedureCode_1'])['ClmProcedureCode_1'].count().reset_index(name='a').\\\n",
    "groupby('Provider')['a'].count().reset_index(name= 'NumDistincClmProCode1')\n",
    "\n",
    "\n",
    "proCode2 = full_data1.groupby(['Provider', 'ClmProcedureCode_2'])['ClmProcedureCode_2'].count().reset_index(name='a').\\\n",
    "groupby('Provider')['a'].count().reset_index(name= 'NumDistincClmProCode2')\n",
    "\n",
    "\n",
    "proCode3 = full_data1.groupby(['Provider', 'ClmProcedureCode_3'])['ClmProcedureCode_3'].count().reset_index(name='a').\\\n",
    "groupby('Provider')['a'].count().reset_index(name= 'NumDistincClmProCode3')\n",
    "\n",
    "proCode4 = full_data1.groupby(['Provider', 'ClmProcedureCode_4'])['ClmProcedureCode_4'].count().reset_index(name='a').\\\n",
    "groupby('Provider')['a'].count().reset_index(name= 'NumDistincClmProCode4')\n",
    "\n",
    "\n",
    "proCode5 = full_data1.groupby(['Provider', 'ClmProcedureCode_5'])['ClmProcedureCode_5'].count().reset_index(name='a').\\\n",
    "groupby('Provider')['a'].count().reset_index(name= 'NumDistincClmProCode5')"
   ]
  },
  {
   "cell_type": "code",
   "execution_count": 108,
   "metadata": {},
   "outputs": [],
   "source": [
    "train_data = pd.merge(train_data, proCode1, on='Provider', how='left')\n",
    "train_data = pd.merge(train_data, proCode2, on='Provider', how='left')\n",
    "train_data = pd.merge(train_data, proCode3, on='Provider', how='left')\n",
    "train_data = pd.merge(train_data, proCode4, on='Provider', how='left')\n",
    "train_data = pd.merge(train_data, proCode5, on='Provider', how='left')"
   ]
  },
  {
   "cell_type": "markdown",
   "metadata": {},
   "source": [
    "#### Impute na values with 0"
   ]
  },
  {
   "cell_type": "code",
   "execution_count": 110,
   "metadata": {},
   "outputs": [],
   "source": [
    "train_data = train_data.replace(np.nan,0)"
   ]
  },
  {
   "cell_type": "markdown",
   "metadata": {},
   "source": [
    "#### Pickling dataset 2"
   ]
  },
  {
   "cell_type": "code",
   "execution_count": 114,
   "metadata": {},
   "outputs": [],
   "source": [
    "train_data.to_pickle('train_dataset2.pkl')"
   ]
  },
  {
   "cell_type": "markdown",
   "metadata": {},
   "source": [
    "# Feature Engineering: Round 3"
   ]
  },
  {
   "cell_type": "code",
   "execution_count": 3,
   "metadata": {},
   "outputs": [],
   "source": [
    "train_data3 = pd.read_pickle(\"train_dataset2.pkl\")"
   ]
  },
  {
   "cell_type": "code",
   "execution_count": 4,
   "metadata": {},
   "outputs": [],
   "source": [
    "train_data3 = train_data3.drop(columns= ['NumDistincClmDiagCode1','NumDistincClmDiagCode2','NumDistincClmDiagCode3', \\\n",
    "                   'NumDistincClmDiagCode4','NumDistincClmDiagCode5','NumDistincClmDiagCode6', \\\n",
    "                   'NumDistincClmDiagCode7','NumDistincClmDiagCode8','NumDistincClmDiagCode9', \\\n",
    "                   'NumDistincClmDiagCode10','NumDistincClmProCode1','NumDistincClmProCode2','NumDistincClmProCode3', \\\n",
    "                  'NumDistincClmProCode4','NumDistincClmProCode5'], axis=1)"
   ]
  },
  {
   "cell_type": "code",
   "execution_count": 5,
   "metadata": {},
   "outputs": [],
   "source": [
    "train_data3 = train_data3.rename(columns={'numDiffDiagnosisCode':'NumUniqClmAdmitDiagCOde',\n",
    "                                        'numDiffGroupDiagCode':'NumUniqGroupDiagCode'})"
   ]
  },
  {
   "cell_type": "code",
   "execution_count": 7,
   "metadata": {},
   "outputs": [],
   "source": [
    "train_data3.to_pickle('train_dataset3.pkl')"
   ]
  },
  {
   "cell_type": "code",
   "execution_count": null,
   "metadata": {},
   "outputs": [],
   "source": []
  }
 ],
 "metadata": {
  "kernelspec": {
   "display_name": "Python 3",
   "language": "python",
   "name": "python3"
  },
  "language_info": {
   "codemirror_mode": {
    "name": "ipython",
    "version": 3
   },
   "file_extension": ".py",
   "mimetype": "text/x-python",
   "name": "python",
   "nbconvert_exporter": "python",
   "pygments_lexer": "ipython3",
   "version": "3.7.4"
  }
 },
 "nbformat": 4,
 "nbformat_minor": 2
}
