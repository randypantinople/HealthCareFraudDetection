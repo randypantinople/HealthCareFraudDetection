{
 "cells": [
  {
   "cell_type": "code",
   "execution_count": 71,
   "metadata": {},
   "outputs": [],
   "source": [
    "import pandas as pd\n",
    "import numpy as np\n",
    "%matplotlib inline\n",
    "import matplotlib.pyplot as plt\n",
    "import seaborn as sns\n",
    "from sklearn.preprocessing import LabelEncoder\n",
    "from sklearn.metrics import confusion_matrix, roc_auc_score, recall_score\n",
    "from sklearn.utils import resample\n",
    "from sklearn.linear_model import SGDClassifier , LogisticRegression\n",
    "from sklearn.model_selection import GridSearchCV\n",
    "from sklearn.preprocessing import scale\n",
    "from sklearn.model_selection import train_test_split\n",
    "from sklearn import svm\n",
    "from sklearn import ensemble\n",
    "from xgboost import XGBClassifier\n",
    "from sklearn.model_selection import RepeatedStratifiedKFold\n",
    "\n",
    "plt.style.use('ggplot')\n",
    "\n",
    "pd.options.display.max_columns = None\n"
   ]
  },
  {
   "cell_type": "markdown",
   "metadata": {},
   "source": [
    "## Preparating the data sets"
   ]
  },
  {
   "cell_type": "code",
   "execution_count": 72,
   "metadata": {},
   "outputs": [],
   "source": [
    "# Training data sets\n",
    "train_beneficiarydata = pd.read_csv(\"./healthCareData/train_beneficiarydata.csv\")\n",
    "train_inpatientdata = pd.read_csv(\"./healthCareData/train_inpatientdata.csv\")\n",
    "train_outpatientdata = pd.read_csv(\"./healthCareData/train_outpatientdata.csv\")\n",
    "train_potentialfraud = pd.read_csv(\"./healthCareData/train_potentialfraud.csv\")\n",
    "\n",
    "#Testing data sets\n",
    "test_beneficiarydata = pd.read_csv(\"./healthCareData/test_beneficiarydata.csv\")\n",
    "test_inpatientdata = pd.read_csv(\"./healthCareData/test_inpatientdata.csv\")\n",
    "test_outpatientdata = pd.read_csv(\"./healthCareData/test_outpatientdata.csv\")\n",
    "test_potentialfraud = pd.read_csv(\"./healthCareData/test_potentialfraud.csv\")\n"
   ]
  },
  {
   "cell_type": "code",
   "execution_count": 73,
   "metadata": {},
   "outputs": [],
   "source": [
    "#Create columns for inpatient and outpatient data.\n",
    "train_inpatientdata['patientType'] = np.repeat('inpatient', len(train_inpatientdata))\n",
    "train_outpatientdata['patientType'] = np.repeat('outpatient', len(train_outpatientdata))\n",
    "\n",
    "train_inpatientdata['patientType'] = np.repeat('inpatient', len(train_inpatientdata))\n",
    "train_outpatientdata['patientType'] = np.repeat('outpatient', len(train_outpatientdata))\n",
    "\n",
    "#Combining the inpatient and outpatient data\n",
    "patient = pd.concat([train_inpatientdata, train_outpatientdata], axis=0)\n",
    "\n"
   ]
  },
  {
   "cell_type": "code",
   "execution_count": 74,
   "metadata": {},
   "outputs": [],
   "source": [
    "#Merge the patient data frame and \n",
    "full_data =pd.merge(patient, train_beneficiarydata, on='BeneID', how='left')"
   ]
  },
  {
   "cell_type": "code",
   "execution_count": 76,
   "metadata": {},
   "outputs": [],
   "source": [
    "full_data= pd.merge(full_data, train_potentialfraud, on='Provider', how='left')"
   ]
  },
  {
   "cell_type": "markdown",
   "metadata": {},
   "source": [
    "## Up-Sampling the Minority Class\n",
    "\n",
    " One technique to train an imbalanced classification model is to fabricate synthesized minority class data, knowning as\n",
    "**up-sampling**. Up-sampling bootstraps only the minority class samples to make the major:minor ratio more balanced\n"
   ]
  },
  {
   "cell_type": "code",
   "execution_count": 78,
   "metadata": {},
   "outputs": [],
   "source": [
    "#Load the data with combone features\n",
    "train_data = pd.read_pickle(\"train_dataset.pkl\")\n",
    "\n"
   ]
  },
  {
   "cell_type": "code",
   "execution_count": 79,
   "metadata": {},
   "outputs": [],
   "source": [
    "train_data.drop(['WeeklyClaims', 'MonthlyClaims', 'IPAnnualReimbursementAmt', 'IPAnnualDeductibleAmt',\n",
    "                'OPAnnualReimbursementAmt', 'OPAnnualDeductibleAmt', 'DeductibleAmtPaid',\n",
    "                'InscClaimAmtReimbursed'], axis=1, inplace=True)"
   ]
  },
  {
   "cell_type": "code",
   "execution_count": 80,
   "metadata": {},
   "outputs": [],
   "source": [
    "opPhy = full_data.groupby(['Provider', 'OperatingPhysician'])['OperatingPhysician'].count().reset_index(name='a').\\\n",
    "groupby('Provider')['a'].count().reset_index(name= 'NumDistincOpPhy')\n"
   ]
  },
  {
   "cell_type": "code",
   "execution_count": 81,
   "metadata": {},
   "outputs": [],
   "source": [
    "train_data2 = pd.merge(train_data, opPhy, on='Provider', how='left')"
   ]
  },
  {
   "cell_type": "code",
   "execution_count": 82,
   "metadata": {},
   "outputs": [],
   "source": [
    "train_data2['NumDistincOpPhy'] = train_data2['NumDistincOpPhy'].fillna(0)"
   ]
  },
  {
   "cell_type": "code",
   "execution_count": 83,
   "metadata": {},
   "outputs": [],
   "source": [
    "otherPhy = full_data.groupby(['Provider', 'OtherPhysician'])['OtherPhysician'].count().reset_index(name='a').\\\n",
    "groupby('Provider')['a'].count().reset_index(name= 'NumDistincOtherPhy')\n"
   ]
  },
  {
   "cell_type": "code",
   "execution_count": 84,
   "metadata": {},
   "outputs": [],
   "source": [
    "train_data3 = pd.merge(train_data2, otherPhy, on='Provider', how='left')"
   ]
  },
  {
   "cell_type": "code",
   "execution_count": 85,
   "metadata": {},
   "outputs": [],
   "source": [
    "train_data3['NumDistincOtherPhy'] = train_data3['NumDistincOtherPhy'].fillna(0)"
   ]
  },
  {
   "cell_type": "code",
   "execution_count": 86,
   "metadata": {},
   "outputs": [],
   "source": [
    "train_data3['PotentialFraud'] = train_data3['PotentialFraud'].apply(lambda x : 1 if x=='Yes' else 0)"
   ]
  },
  {
   "cell_type": "code",
   "execution_count": 87,
   "metadata": {},
   "outputs": [
    {
     "data": {
      "text/plain": [
       "0    4904\n",
       "1     506\n",
       "Name: PotentialFraud, dtype: int64"
      ]
     },
     "execution_count": 87,
     "metadata": {},
     "output_type": "execute_result"
    }
   ],
   "source": [
    "# Check the numbers for the response variable\n",
    "train_data3['PotentialFraud'].value_counts()"
   ]
  },
  {
   "cell_type": "code",
   "execution_count": 88,
   "metadata": {},
   "outputs": [],
   "source": [
    "minorIndex = train_data3[train_data3['PotentialFraud']==1].Provider.values\n",
    "\n",
    "resampled = resample(minorIndex, n_samples=4904-506)\n",
    "LEFT = pd.DataFrame(list(train_data3.Provider) + list(resampled), columns=['INDEX'])\n",
    "\n",
    "train_data = pd.merge(LEFT, train_data3, how='left', left_on ='INDEX', right_on='Provider')\n"
   ]
  },
  {
   "cell_type": "code",
   "execution_count": 89,
   "metadata": {},
   "outputs": [
    {
     "data": {
      "text/plain": [
       "1    4904\n",
       "0    4904\n",
       "Name: PotentialFraud, dtype: int64"
      ]
     },
     "execution_count": 89,
     "metadata": {},
     "output_type": "execute_result"
    }
   ],
   "source": [
    "train_data['PotentialFraud'].value_counts()"
   ]
  },
  {
   "cell_type": "markdown",
   "metadata": {},
   "source": [
    "## dummify the service type variable. This data set will be used for the Linear models and SVM"
   ]
  },
  {
   "cell_type": "code",
   "execution_count": 90,
   "metadata": {},
   "outputs": [],
   "source": [
    "# Dummify the ServiceType\n",
    "dummy = pd.get_dummies(train_data['ServiceType'], drop_first=True)\n",
    "\n",
    "train_data2= pd.concat([train_data, dummy], axis=1).drop('ServiceType', axis=1)\n"
   ]
  },
  {
   "cell_type": "markdown",
   "metadata": {},
   "source": [
    "## Scale the features and split the data"
   ]
  },
  {
   "cell_type": "code",
   "execution_count": 91,
   "metadata": {},
   "outputs": [],
   "source": [
    "#Scale the features\n",
    "X= train_data2.drop(['Provider', 'PotentialFraud', 'INDEX'], axis=1)\n",
    "scaled_X = scale(X)\n",
    "Y= train_data2['PotentialFraud']\n"
   ]
  },
  {
   "cell_type": "code",
   "execution_count": 92,
   "metadata": {},
   "outputs": [],
   "source": [
    "np.random.seed(4)\n",
    "# Split the data into training and testing data\n",
    "\n",
    "X_train, X_test, y_train, y_test = train_test_split(scaled_X, Y, test_size=0.2, random_state=42, stratify=Y)\n"
   ]
  },
  {
   "cell_type": "markdown",
   "metadata": {},
   "source": [
    "## Stochastic Gradient Descent Classifier"
   ]
  },
  {
   "cell_type": "code",
   "execution_count": 134,
   "metadata": {},
   "outputs": [],
   "source": [
    "sgd = SGDClassifier()\n",
    "\n",
    "sgd.set_params(max_iter=2000, loss='log')\n",
    "\n",
    "np.random.seed(4)\n",
    "grid_param = [{\n",
    "    \"alpha\": np.logspace(-3,-1, 10),\n",
    "    \"penalty\" : ['l1', 'l2'],\n",
    "    \"max_iter\":[7000, 8000, 9000]\n",
    "     }]\n",
    "\n",
    "sgd_search = GridSearchCV(estimator=sgd, param_grid=grid_param, scoring='accuracy', cv=5, return_train_score=True)\n",
    "sgd_search = sgd_search.fit(X_train, y_train)"
   ]
  },
  {
   "cell_type": "code",
   "execution_count": 135,
   "metadata": {},
   "outputs": [
    {
     "name": "stdout",
     "output_type": "stream",
     "text": [
      "{'alpha': 0.007742636826811269, 'max_iter': 9000, 'penalty': 'l2'}\n",
      "0.8646447694787138\n"
     ]
    }
   ],
   "source": [
    "print(sgd_search.best_params_)\n",
    "print(sgd_search.best_score_)"
   ]
  },
  {
   "cell_type": "code",
   "execution_count": 136,
   "metadata": {},
   "outputs": [
    {
     "data": {
      "text/plain": [
       "0.8628950050968399"
      ]
     },
     "execution_count": 136,
     "metadata": {},
     "output_type": "execute_result"
    }
   ],
   "source": [
    "sgd_pred =sgd_search.best_estimator_.predict(X_test)\n",
    "\n",
    "confusion_matrix(y_test, sgd_pred)\n",
    "(840+853)/(840+141+128+853)"
   ]
  },
  {
   "cell_type": "markdown",
   "metadata": {},
   "source": [
    "## Penalized Logistic Regression"
   ]
  },
  {
   "cell_type": "code",
   "execution_count": 57,
   "metadata": {},
   "outputs": [],
   "source": [
    "logit=LogisticRegression(solver='liblinear', penalty='l1')\n",
    "\n",
    "grid_param = [{\n",
    "    \"C\": np.logspace(-1, 1, 10)\n",
    "   }]"
   ]
  },
  {
   "cell_type": "code",
   "execution_count": 58,
   "metadata": {},
   "outputs": [],
   "source": [
    "np.random.seed(5)\n",
    "\n",
    "logit_search= GridSearchCV(logit, param_grid=grid_param, scoring='accuracy', cv=5,\n",
    "                          n_jobs=-1, return_train_score=True)\n",
    "logit_search= logit_search.fit(X_train, y_train)"
   ]
  },
  {
   "cell_type": "code",
   "execution_count": 59,
   "metadata": {},
   "outputs": [
    {
     "name": "stdout",
     "output_type": "stream",
     "text": [
      "{'C': 0.774263682681127}\n",
      "0.8719097319482163\n"
     ]
    }
   ],
   "source": [
    "print(logit_search.best_params_)\n",
    "print(logit_search.best_score_)"
   ]
  },
  {
   "cell_type": "code",
   "execution_count": 63,
   "metadata": {},
   "outputs": [
    {
     "data": {
      "text/plain": [
       "0.8669724770642202"
      ]
     },
     "execution_count": 63,
     "metadata": {},
     "output_type": "execute_result"
    }
   ],
   "source": [
    "logit_pred =logit_search.best_estimator_.predict(X_test)\n",
    "\n",
    "confusion_matrix(y_test, logit_pred)\n",
    "(840+861)/(840+141+120+861)"
   ]
  },
  {
   "cell_type": "markdown",
   "metadata": {},
   "source": [
    "## Suport Vector Machine"
   ]
  },
  {
   "cell_type": "code",
   "execution_count": 24,
   "metadata": {},
   "outputs": [],
   "source": [
    "svm= svm.SVC()\n",
    "\n",
    "grid_para_svm = [\n",
    "    {'C': range(4000, 4500, 100),\n",
    "     'kernel': ['poly'],\n",
    "     'degree': [3, 4, 5]},\n",
    "    {'C': range(4000, 4500, 100),\n",
    "     'gamma': np.logspace(-2, -4, 5),\n",
    "     'kernel': ['rbf']}\n",
    "]\n"
   ]
  },
  {
   "cell_type": "code",
   "execution_count": 25,
   "metadata": {},
   "outputs": [
    {
     "name": "stderr",
     "output_type": "stream",
     "text": [
      "C:\\Users\\randy\\anaconda\\lib\\site-packages\\sklearn\\model_selection\\_search.py:823: FutureWarning: The parameter 'iid' is deprecated in 0.22 and will be removed in 0.24.\n",
      "  \"removed in 0.24.\", FutureWarning\n"
     ]
    },
    {
     "data": {
      "text/plain": [
       "GridSearchCV(cv=5, error_score=nan,\n",
       "             estimator=SVC(C=1.0, break_ties=False, cache_size=200,\n",
       "                           class_weight=None, coef0=0.0,\n",
       "                           decision_function_shape='ovr', degree=3,\n",
       "                           gamma='scale', kernel='rbf', max_iter=-1,\n",
       "                           probability=False, random_state=None, shrinking=True,\n",
       "                           tol=0.001, verbose=False),\n",
       "             iid=True, n_jobs=-1,\n",
       "             param_grid=[{'C': range(4000, 4500, 100), 'degree': [3, 4, 5],\n",
       "                          'kernel': ['poly']},\n",
       "                         {'C': range(4000, 4500, 100),\n",
       "                          'gamma': array([0.01      , 0.00316228, 0.001     , 0.00031623, 0.0001    ]),\n",
       "                          'kernel': ['rbf']}],\n",
       "             pre_dispatch='2*n_jobs', refit=True, return_train_score=True,\n",
       "             scoring='accuracy', verbose=0)"
      ]
     },
     "execution_count": 25,
     "metadata": {},
     "output_type": "execute_result"
    }
   ],
   "source": [
    "np.random.seed(5)\n",
    "svm_search = GridSearchCV(svm, grid_para_svm, scoring='accuracy', cv=5, iid=True, return_train_score=True, n_jobs=-1)\n",
    "svm_search.fit(X_train, y_train)"
   ]
  },
  {
   "cell_type": "code",
   "execution_count": 26,
   "metadata": {},
   "outputs": [
    {
     "name": "stdout",
     "output_type": "stream",
     "text": [
      "{'C': 4300, 'degree': 3, 'kernel': 'poly'}\n",
      "0.9579403517716034\n"
     ]
    }
   ],
   "source": [
    "print(svm_search.best_params_)\n",
    "print(svm_search.best_score_)"
   ]
  },
  {
   "cell_type": "code",
   "execution_count": 29,
   "metadata": {},
   "outputs": [
    {
     "data": {
      "text/plain": [
       "0.9643221202854231"
      ]
     },
     "execution_count": 29,
     "metadata": {},
     "output_type": "execute_result"
    }
   ],
   "source": [
    "svm_pred = svm_search.best_estimator_.predict(X_test)\n",
    "confusion_matrix(y_test, svm_pred)\n",
    "(914+978)/(914+67+3+978)"
   ]
  },
  {
   "cell_type": "markdown",
   "metadata": {},
   "source": [
    "## Preparing the data for Random Forest and Gradient Boosting Classifier"
   ]
  },
  {
   "cell_type": "code",
   "execution_count": 21,
   "metadata": {},
   "outputs": [],
   "source": [
    "le =LabelEncoder()\n",
    "serviceType =le.fit_transform(train_data['ServiceType'])\n",
    "\n",
    "train_nonlinear= train_data.copy()\n",
    "train_nonlinear['ServiceType'] = serviceType\n",
    "\n",
    "features = train_nonlinear.drop(['Provider', 'PotentialFraud', 'INDEX'], axis=1)\n",
    "target= train_nonlinear['PotentialFraud']\n",
    "\n",
    "np.random.seed(5)\n",
    "\n",
    "X_trainN, X_testN, y_trainN, y_testN = train_test_split(features, target, test_size=0.2, random_state=42, stratify=target)\n",
    "\n"
   ]
  },
  {
   "cell_type": "markdown",
   "metadata": {},
   "source": [
    "## Random Forest Classifier"
   ]
  },
  {
   "cell_type": "code",
   "execution_count": 34,
   "metadata": {},
   "outputs": [],
   "source": [
    "randomForest= ensemble.RandomForestClassifier()\n",
    "\n",
    "np.random.seed(5)\n",
    "\n",
    "grid_param = ({\n",
    "    'criterion': ['gini', 'entropy'],\n",
    "    'max_depth': range(30, 36),\n",
    "    'n_estimators': range(10, 111, 20),\n",
    "     'min_samples_split': [2,3, 4],\n",
    "    'min_samples_leaf':[ 2,3,4]\n",
    "})\n",
    "\n",
    "forest_search = GridSearchCV(randomForest, grid_param, scoring='accuracy', cv=5, n_jobs=-1, return_train_score=True)\n",
    "forest_search = forest_search.fit(X_trainN, y_trainN)"
   ]
  },
  {
   "cell_type": "code",
   "execution_count": 35,
   "metadata": {},
   "outputs": [
    {
     "name": "stdout",
     "output_type": "stream",
     "text": [
      "{'criterion': 'entropy', 'max_depth': 30, 'min_samples_leaf': 2, 'min_samples_split': 2, 'n_estimators': 70}\n",
      "0.9737455395744785\n"
     ]
    }
   ],
   "source": [
    "print(forest_search.best_params_)\n",
    "print(forest_search.best_score_)"
   ]
  },
  {
   "cell_type": "code",
   "execution_count": 37,
   "metadata": {},
   "outputs": [
    {
     "data": {
      "text/plain": [
       "0.9775739041794088"
      ]
     },
     "execution_count": 37,
     "metadata": {},
     "output_type": "execute_result"
    }
   ],
   "source": [
    "forest_pred = forest_search.best_estimator_.predict(X_testN)\n",
    "confusion_matrix(y_testN, forest_pred)\n",
    "(937+981)/(937+44+0+981)"
   ]
  },
  {
   "cell_type": "code",
   "execution_count": 38,
   "metadata": {},
   "outputs": [
    {
     "data": {
      "text/plain": [
       "Text(0.5, 1.0, 'Feature Importance Random Forest Classifier')"
      ]
     },
     "execution_count": 38,
     "metadata": {},
     "output_type": "execute_result"
    },
    {
     "data": {
      "image/png": "[encoded data removed]",
      "text/plain": [
       "<Figure size 432x288 with 1 Axes>"
      ]
     },
     "metadata": {},
     "output_type": "display_data"
    }
   ],
   "source": [
    "#Feature importance\n",
    "sorted_importance = sorted(zip(features.columns, forest_search.best_estimator_.feature_importances_), key=lambda t:t[1], reverse=True)[:15]\n",
    "sorted_importance.sort(key= lambda t : t[1])\n",
    "\n",
    "a, b = zip(*sorted_importance) # this splits the list of tuples into two lists\n",
    "\n",
    "pd.DataFrame({'feature_name':a, 'importance_score':b}).plot.barh(x='feature_name',y='importance_score', legend=None)\n",
    "plt.title('Feature Importance Random Forest Classifier')\n"
   ]
  },
  {
   "cell_type": "markdown",
   "metadata": {},
   "source": [
    "## Gradient Boosting Classifier"
   ]
  },
  {
   "cell_type": "code",
   "execution_count": 112,
   "metadata": {},
   "outputs": [
    {
     "data": {
      "text/plain": [
       "GridSearchCV(cv=5, error_score=nan,\n",
       "             estimator=GradientBoostingClassifier(ccp_alpha=0.0,\n",
       "                                                  criterion='friedman_mse',\n",
       "                                                  init=None, learning_rate=0.1,\n",
       "                                                  loss='deviance', max_depth=3,\n",
       "                                                  max_features=None,\n",
       "                                                  max_leaf_nodes=None,\n",
       "                                                  min_impurity_decrease=0.0,\n",
       "                                                  min_impurity_split=None,\n",
       "                                                  min_samples_leaf=1,\n",
       "                                                  min_samples_split=2,\n",
       "                                                  min_weight_fraction_leaf=0.0,\n",
       "                                                  n_estimators=100,\n",
       "                                                  n_iter_no_c...\n",
       "                                                  random_state=None,\n",
       "                                                  subsample=1.0, tol=0.0001,\n",
       "                                                  validation_fraction=0.1,\n",
       "                                                  verbose=0, warm_start=False),\n",
       "             iid='deprecated', n_jobs=-1,\n",
       "             param_grid=[{'learning_rate': [0.56], 'max_depth': range(5, 30, 5),\n",
       "                          'max_features': [5], 'min_samples_leaf': [6],\n",
       "                          'min_samples_split': [8], 'n_estimators': [1500]}],\n",
       "             pre_dispatch='2*n_jobs', refit=True, return_train_score=False,\n",
       "             scoring='accuracy', verbose=0)"
      ]
     },
     "execution_count": 112,
     "metadata": {},
     "output_type": "execute_result"
    }
   ],
   "source": [
    "# gbc= ensemble.GradientBoostingClassifier()\n",
    "\n",
    "# np.random.seed(5)\n",
    "# grid_boost_para = [{\n",
    "#     \"n_estimators\": [1500, 2000, 2500],\n",
    "#    \"learning_rate\":np.linspace(0.1, 1, 10),\n",
    "#     \"min_samples_split\": range(1, 10),\n",
    "#     \"min_samples_leaf\":range(1,10),\n",
    "#     \"max_features\": list(range(1, X_trainN.shape[1])),\n",
    "#     \"max_depth\": range(5, 30, 5)\n",
    "# }]\n",
    "\n",
    "# grid_boost = GridSearchCV(gbc, grid_boost_para, scoring ='accuracy',cv=5, n_jobs=-1)\n",
    "# grid_boost.fit(X_trainN, y_trainN)"
   ]
  },
  {
   "cell_type": "code",
   "execution_count": 113,
   "metadata": {},
   "outputs": [
    {
     "name": "stdout",
     "output_type": "stream",
     "text": [
      "{'learning_rate': 0.56, 'max_depth': 25, 'max_features': 5, 'min_samples_leaf': 6, 'min_samples_split': 8, 'n_estimators': 1500}\n",
      "0.9794802158054342\n"
     ]
    }
   ],
   "source": [
    "print(grid_boost.best_params_)\n",
    "print(grid_boost.best_score_)\n"
   ]
  },
  {
   "cell_type": "code",
   "execution_count": 116,
   "metadata": {},
   "outputs": [
    {
     "data": {
      "text/plain": [
       "0.9821610601427115"
      ]
     },
     "execution_count": 116,
     "metadata": {},
     "output_type": "execute_result"
    }
   ],
   "source": [
    "boost_pred = grid_boost.best_estimator_.predict(X_testN)\n",
    "confusion_matrix(y_testN, boost_pred)\n",
    "(950+977)/(950+31+4+977)\n",
    "\n"
   ]
  },
  {
   "cell_type": "code",
   "execution_count": 119,
   "metadata": {},
   "outputs": [],
   "source": [
    "# #Feature importance\n",
    "# sorted_importance = sorted(zip(features.columns, grid_boost.best_estimator_.feature_importances_), key=lambda t:t[1], reverse=True)[:15]\n",
    "# sorted_importance.sort(key= lambda t : t[1])\n",
    "\n",
    "# a, b = zip(*sorted_importance) # this splits the list of tuples into two lists\n",
    "\n",
    "# pd.DataFrame({'feature_name':a, 'importance_score':b}).plot.barh(x='feature_name',y='importance_score', legend=None)\n",
    "# plt.title('Feature Importance Gradient Boosting Classifier')\n"
   ]
  },
  {
   "cell_type": "markdown",
   "metadata": {},
   "source": [
    "## XGBoost Classifier"
   ]
  },
  {
   "cell_type": "code",
   "execution_count": 22,
   "metadata": {},
   "outputs": [],
   "source": [
    "forest_im = ensemble.RandomForestClassifier(class_weight='balanced')\n",
    "le =LabelEncoder()\n",
    "serviceType =le.fit_transform(train_data3['ServiceType'])\n",
    "\n",
    "\n",
    "train_im= train_data3.copy()\n",
    "train_im['ServiceType'] = serviceType\n",
    "\n",
    "features_im = train_im.drop(['Provider', 'PotentialFraud'], axis=1)\n",
    "target_im = train_im['PotentialFraud']\n",
    "\n"
   ]
  },
  {
   "cell_type": "code",
   "execution_count": 23,
   "metadata": {},
   "outputs": [],
   "source": [
    "np.random.seed(5)\n",
    "\n",
    "X_trainM, X_testM, y_trainM, y_testM = train_test_split(features_im, target_im, test_size=0.2, random_state=42, stratify=target_im)\n"
   ]
  },
  {
   "cell_type": "code",
   "execution_count": 121,
   "metadata": {},
   "outputs": [],
   "source": [
    "xgb= XGBClassifier()\n",
    "\n",
    "cv = RepeatedStratifiedKFold(n_splits=10, n_repeats=3, random_state=1)\n",
    "weights=[1200, 1210, 1230, 1250, 1300]\n",
    "param_grid = dict(scale_pos_weight=weights)\n",
    "\n",
    "\n",
    "# define grid search\n",
    "grid = GridSearchCV(estimator=xgb, param_grid=param_grid, n_jobs=-1, cv=cv, scoring='recall',  return_train_score=True)\n",
    "\n",
    "# execute the grid search\n",
    "\n",
    "grid_result = grid.fit(X_trainM, y_trainM)\n"
   ]
  },
  {
   "cell_type": "code",
   "execution_count": 124,
   "metadata": {},
   "outputs": [
    {
     "name": "stdout",
     "output_type": "stream",
     "text": [
      "{'scale_pos_weight': 1230}\n"
     ]
    },
    {
     "data": {
      "text/plain": [
       "0.688109756097561"
      ]
     },
     "execution_count": 124,
     "metadata": {},
     "output_type": "execute_result"
    }
   ],
   "source": [
    "print(grid_result.best_params_)\n",
    "grid_result.best_score_"
   ]
  },
  {
   "cell_type": "code",
   "execution_count": 125,
   "metadata": {},
   "outputs": [
    {
     "data": {
      "text/plain": [
       "0.7623762376237624"
      ]
     },
     "execution_count": 125,
     "metadata": {},
     "output_type": "execute_result"
    }
   ],
   "source": [
    "grid_pred= grid_result.best_estimator_.predict(X_testM)\n",
    "recall_score(y_testM, grid_pred)"
   ]
  },
  {
   "cell_type": "code",
   "execution_count": 120,
   "metadata": {},
   "outputs": [
    {
     "data": {
      "text/plain": [
       "<bound method XGBModel.get_params of XGBClassifier(base_score=None, booster=None, colsample_bylevel=None,\n",
       "              colsample_bynode=None, colsample_bytree=None, gamma=None,\n",
       "              gpu_id=None, importance_type='gain', interaction_constraints=None,\n",
       "              learning_rate=None, max_delta_step=None, max_depth=None,\n",
       "              min_child_weight=None, missing=nan, monotone_constraints=None,\n",
       "              n_estimators=100, n_jobs=None, num_parallel_tree=None,\n",
       "              objective='binary:logistic', random_state=None, reg_alpha=None,\n",
       "              reg_lambda=None, scale_pos_weight=None, subsample=None,\n",
       "              tree_method=None, validate_parameters=None, verbosity=None)>"
      ]
     },
     "execution_count": 120,
     "metadata": {},
     "output_type": "execute_result"
    }
   ],
   "source": [
    "xgb.get_params"
   ]
  },
  {
   "cell_type": "markdown",
   "metadata": {},
   "source": [
    "## Random Forest with imabalance data"
   ]
  },
  {
   "cell_type": "code",
   "execution_count": 127,
   "metadata": {},
   "outputs": [],
   "source": [
    "forest_im = ensemble.RandomForestClassifier(class_weight='balanced')\n",
    "le =LabelEncoder()\n",
    "serviceType =le.fit_transform(train_data3['ServiceType'])\n",
    "\n",
    "\n",
    "train_im= train_data3.copy()\n",
    "train_im['ServiceType'] = serviceType\n",
    "\n",
    "features_im = train_im.drop(['Provider', 'PotentialFraud'], axis=1)\n",
    "target_im = train_im['PotentialFraud']\n",
    "\n"
   ]
  },
  {
   "cell_type": "code",
   "execution_count": 128,
   "metadata": {},
   "outputs": [],
   "source": [
    "np.random.seed(6)\n",
    "grid_param = {\n",
    "    'criterion': ['gini', 'entropy'],\n",
    "    'max_depth': range(1, 31),\n",
    "    'n_estimators': range(10, 110, 10)\n",
    "}\n",
    "\n",
    "im_search = GridSearchCV(forest_im, grid_param, scoring='recall', cv=5, n_jobs=-1)\n",
    "im_search = im_search.fit(X_trainM, y_trainM)"
   ]
  },
  {
   "cell_type": "code",
   "execution_count": 130,
   "metadata": {},
   "outputs": [
    {
     "name": "stdout",
     "output_type": "stream",
     "text": [
      "{'criterion': 'entropy', 'max_depth': 2, 'n_estimators': 20}\n",
      "0.874074074074074\n"
     ]
    }
   ],
   "source": [
    "print(im_search.best_params_)\n",
    "print(im_search.best_score_)"
   ]
  },
  {
   "cell_type": "code",
   "execution_count": 131,
   "metadata": {},
   "outputs": [
    {
     "data": {
      "text/plain": [
       "0.8613861386138614"
      ]
     },
     "execution_count": 131,
     "metadata": {},
     "output_type": "execute_result"
    }
   ],
   "source": [
    "im_pred = im_search.best_estimator_.predict(X_testM)\n",
    "recall_score(y_testM, im_pred)"
   ]
  },
  {
   "cell_type": "code",
   "execution_count": 27,
   "metadata": {},
   "outputs": [
    {
     "data": {
      "text/plain": [
       "<matplotlib.axes._subplots.AxesSubplot at 0x2cbf7f129c8>"
      ]
     },
     "execution_count": 27,
     "metadata": {},
     "output_type": "execute_result"
    },
    {
     "data": {
      "image/png": "[encoded data removed]",
      "text/plain": [
       "<Figure size 432x288 with 1 Axes>"
      ]
     },
     "metadata": {},
     "output_type": "display_data"
    }
   ],
   "source": [
    "sns.boxplot(x='PotentialFraud', y='numDiffGroupDiagCode', data=train_data3, showfliers=False)"
   ]
  },
  {
   "cell_type": "markdown",
   "metadata": {},
   "source": [
    "## Unary classification vs Random Forest and Gradient Boosting most important features.\n"
   ]
  },
  {
   "cell_type": "code",
   "execution_count": 34,
   "metadata": {},
   "outputs": [],
   "source": [
    "forest_trial= ensemble.RandomForestClassifier(criterion='gini', max_depth=29, n_estimators=10)\n",
    "le = LabelEncoder()\n",
    "\n",
    "serviceType =le.fit_transform(train_data['ServiceType'])\n",
    "train= train_data.copy()\n",
    "train['ServiceType'] = serviceType\n",
    "\n",
    "features = train.drop(['Provider', 'PotentialFraud', 'INDEX'], axis=1)\n",
    "target= train['PotentialFraud']\n",
    "\n",
    "\n"
   ]
  },
  {
   "cell_type": "code",
   "execution_count": 70,
   "metadata": {},
   "outputs": [],
   "source": [
    "acc= {}\n",
    "\n",
    "for i in range(len(features.columns)):\n",
    "    forest_trial.fit(pd.DataFrame(features.iloc[:,i]), target)\n",
    "    acc[features.columns[i]] = forest_trial.score(pd.DataFrame(features.iloc[:,i]), target)\n"
   ]
  },
  {
   "cell_type": "code",
   "execution_count": 69,
   "metadata": {},
   "outputs": [
    {
     "data": {
      "text/plain": [
       "<matplotlib.axes._subplots.AxesSubplot at 0x2cbaf3ae188>"
      ]
     },
     "execution_count": 69,
     "metadata": {},
     "output_type": "execute_result"
    },
    {
     "data": {
      "image/png": "[encoded data removed]",
      "text/plain": [
       "<Figure size 432x288 with 1 Axes>"
      ]
     },
     "metadata": {},
     "output_type": "display_data"
    }
   ],
   "source": [
    "a = sorted(acc.items(), key= lambda x : x[1],reverse=True)[:10]\n",
    "a.sort(key = lambda x : x[1])\n",
    "\n",
    "c, d  = zip(*a)\n",
    "\n",
    "pd.DataFrame({'features':c, 'accuracy': d}).plot(kind='barh', x='features', y='accuracy', legend=False)"
   ]
  },
  {
   "cell_type": "markdown",
   "metadata": {},
   "source": [
    "## Why does the gradient boosting and random forest model chose ' NumOfGroupDiagCOde\" as the most important features?"
   ]
  },
  {
   "cell_type": "markdown",
   "metadata": {},
   "source": [
    "- Diagnosis related group code(DRG)  are a means of classifying a patient under a particular group where those assigned are likely to need a similar level of hospital resources for their care.\n",
    "\n",
    "- Each DRG has a payment weight assigned to it, allowing the hospital to determine how much it can charge for its services.\n",
    "\n",
    "- For example, if when performing an appendectomy, a physician simply records the diagnosis as “appendicitis,” the lowest or neutral DRG category will be applied. Recording the condition as “acute appendicitis,” means that the CC category will be applied. An abscess or peritonitis falls under the MCC category, the highest level of DRG assignment.\n",
    "\n",
    "- So how does it relates to the problem earlier, the claim amoun will depend on te type of code used.\n",
    "\n",
    "- And what does it mean for fraudulent activities?\n",
    "\n",
    "\n",
    "- It could happen in the physicians level where he diagnose worse condition than it should be\n",
    "- Or someone who is incharge of coding the diagnosis intentionally or unintentionally upcode the diagnosis.\n",
    "\n",
    "- Upcoding individual patients to appear sickier therefore more costly to treat than they actually are.\n",
    "\n"
   ]
  }
 ],
 "metadata": {
  "kernelspec": {
   "display_name": "Python 3",
   "language": "python",
   "name": "python3"
  },
  "language_info": {
   "codemirror_mode": {
    "name": "ipython",
    "version": 3
   },
   "file_extension": ".py",
   "mimetype": "text/x-python",
   "name": "python",
   "nbconvert_exporter": "python",
   "pygments_lexer": "ipython3",
   "version": "3.7.6"
  }
 },
 "nbformat": 4,
 "nbformat_minor": 4
}
