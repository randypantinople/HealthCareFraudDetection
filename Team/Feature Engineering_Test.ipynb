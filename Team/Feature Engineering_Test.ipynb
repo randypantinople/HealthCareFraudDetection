{
 "cells": [
  {
   "cell_type": "code",
   "execution_count": 2,
   "metadata": {},
   "outputs": [],
   "source": [
    "import pandas as pd\n",
    "import numpy as np\n",
    "%matplotlib inline\n",
    "import seaborn as sns\n",
    "import datetime as dt\n",
    "from matplotlib import pyplot as plt\n",
    "pd.set_option('display.max_columns', None)"
   ]
  },
  {
   "cell_type": "code",
   "execution_count": 2,
   "metadata": {},
   "outputs": [],
   "source": [
    "# Test data sets\n",
    "benef = pd.read_csv('./data/Test_Beneficiary.csv')\n",
    "inpat = pd.read_csv('./data/Test_Inpatient.csv')\n",
    "outpat = pd.read_csv('./data/Test_Outpatient.csv')\n",
    "fraud = pd.read_csv('./data/Test-Potential Fraud.csv')"
   ]
  },
  {
   "cell_type": "code",
   "execution_count": 3,
   "metadata": {
    "scrolled": true
   },
   "outputs": [
    {
     "name": "stdout",
     "output_type": "stream",
     "text": [
      "(63968, 25)\n",
      "(9551, 30)\n",
      "(125841, 27)\n",
      "(1353, 1)\n"
     ]
    }
   ],
   "source": [
    "print(benef.shape)\n",
    "print(inpat.shape)\n",
    "print(outpat.shape)\n",
    "print(fraud.shape)"
   ]
  },
  {
   "cell_type": "code",
   "execution_count": 4,
   "metadata": {},
   "outputs": [],
   "source": [
    "#Create columns for inpatient and outpatient data.\n",
    "inpat['patientType'] = np.repeat('inpatient', len(inpat))\n",
    "outpat['patientType'] = np.repeat('outpatient', len(outpat))"
   ]
  },
  {
   "cell_type": "code",
   "execution_count": 5,
   "metadata": {},
   "outputs": [
    {
     "name": "stderr",
     "output_type": "stream",
     "text": [
      "/opt/anaconda3/lib/python3.7/site-packages/ipykernel_launcher.py:2: FutureWarning: Sorting because non-concatenation axis is not aligned. A future version\n",
      "of pandas will change to not sort by default.\n",
      "\n",
      "To accept the future behavior, pass 'sort=False'.\n",
      "\n",
      "To retain the current behavior and silence the warning, pass 'sort=True'.\n",
      "\n",
      "  \n"
     ]
    }
   ],
   "source": [
    "#Combining the inpatient and outpatient data\n",
    "patient = pd.concat([inpat, outpat], axis=0)"
   ]
  },
  {
   "cell_type": "code",
   "execution_count": 6,
   "metadata": {},
   "outputs": [],
   "source": [
    "# Combining patient dataset with beneficiary dataset \n",
    "full_data =pd.merge(patient, benef, on='BeneID', how='left')"
   ]
  },
  {
   "cell_type": "code",
   "execution_count": 7,
   "metadata": {},
   "outputs": [],
   "source": [
    "full_data1 = full_data.copy()"
   ]
  },
  {
   "cell_type": "code",
   "execution_count": 8,
   "metadata": {},
   "outputs": [],
   "source": [
    "# Creating DaysAdmitted Feature by substracting claim start date from claim end date \n",
    "full_data1['ClaimStartDt'] = pd.to_datetime(full_data1['ClaimStartDt'])\n",
    "full_data1['ClaimEndDt'] = pd.to_datetime(full_data1['ClaimEndDt'])\n",
    "full_data1['DaysAdmitted'] = full_data1['ClaimEndDt'] - full_data1['ClaimStartDt']"
   ]
  },
  {
   "cell_type": "code",
   "execution_count": 9,
   "metadata": {},
   "outputs": [],
   "source": [
    "# Chaging DaysAdmitted into integer object \n",
    "full_data1['DaysAdmitted'] = full_data1['DaysAdmitted'].astype(str)\n",
    "full_data1['DaysAdmitted'] = full_data1['DaysAdmitted'].str.replace('days', ' ')\n",
    "\n",
    "full_data1['DaysAdmitted'] = full_data1['DaysAdmitted']. \\\n",
    "str.replace('00:00:00.000000000', '')\n",
    "\n",
    "full_data1['DaysAdmitted'] = full_data1['DaysAdmitted'].astype(int)\n",
    "\n",
    "full_data1['DaysAdmitted'] = full_data1['DaysAdmitted'] + 1"
   ]
  },
  {
   "cell_type": "markdown",
   "metadata": {},
   "source": [
    "#### First Feature Engineered: DaysAdmittedMean"
   ]
  },
  {
   "cell_type": "code",
   "execution_count": 10,
   "metadata": {},
   "outputs": [],
   "source": [
    "# Creating a separate dataframe of DaysAdmittedMean by Provider\n",
    "days = pd.DataFrame(full_data1.groupby('Provider')['DaysAdmitted'].mean())\n",
    "days = days.reset_index()"
   ]
  },
  {
   "cell_type": "code",
   "execution_count": 11,
   "metadata": {},
   "outputs": [],
   "source": [
    "# Merging Potential Fraud dataset with DaysAdmittedMean dataset \n",
    "fraud1 = fraud.copy()\n",
    "fraud1 = pd.merge(fraud1, days, on='Provider')"
   ]
  },
  {
   "cell_type": "markdown",
   "metadata": {},
   "source": [
    "#### 2. DeductibleAmountPaidMean"
   ]
  },
  {
   "cell_type": "code",
   "execution_count": 12,
   "metadata": {},
   "outputs": [],
   "source": [
    "DeductibleMean = pd.DataFrame(full_data1.groupby('Provider') \\\n",
    "                              ['DeductibleAmtPaid'].mean())\n",
    "\n",
    "fraud1 = pd.merge(fraud1, DeductibleMean, on='Provider')"
   ]
  },
  {
   "cell_type": "markdown",
   "metadata": {},
   "source": [
    "#### 3. Insurance Claim Amount Reimbursed Mean"
   ]
  },
  {
   "cell_type": "code",
   "execution_count": 13,
   "metadata": {},
   "outputs": [],
   "source": [
    "InscReimbursed = pd.DataFrame(full_data1.groupby('Provider') \\\n",
    "                              ['InscClaimAmtReimbursed'].mean())\n",
    "\n",
    "fraud1 = pd.merge(fraud1, InscReimbursed, on='Provider')"
   ]
  },
  {
   "cell_type": "markdown",
   "metadata": {},
   "source": [
    "#### 4. Insurance covered percentage mean"
   ]
  },
  {
   "cell_type": "code",
   "execution_count": 14,
   "metadata": {},
   "outputs": [],
   "source": [
    "full_data1['InscCoveredPercent'] = full_data1['InscClaimAmtReimbursed'] \\\n",
    "/(full_data1['InscClaimAmtReimbursed'] + full_data1['DeductibleAmtPaid'])\n",
    "\n",
    "InscCoveredPercent = pd.DataFrame(full_data1.groupby('Provider') \\\n",
    "                                  ['InscCoveredPercent'].mean())\n",
    "\n",
    "fraud1 = pd.merge(fraud1, InscCoveredPercent, on='Provider')"
   ]
  },
  {
   "cell_type": "markdown",
   "metadata": {},
   "source": [
    "#### 5. Total Claim Amount Mean"
   ]
  },
  {
   "cell_type": "code",
   "execution_count": 15,
   "metadata": {},
   "outputs": [],
   "source": [
    "full_data1['TotalClaimAmount'] = full_data1['InscClaimAmtReimbursed']\\\n",
    "+ full_data1['DeductibleAmtPaid']\n",
    "\n",
    "TotalClaimAmount = pd.DataFrame(full_data1.groupby('Provider') \\\n",
    "                                ['TotalClaimAmount'].mean())\n",
    "\n",
    "fraud1 = pd.merge(fraud1, TotalClaimAmount, on='Provider')"
   ]
  },
  {
   "cell_type": "markdown",
   "metadata": {},
   "source": [
    "#### 6. Daily Total Charge"
   ]
  },
  {
   "cell_type": "code",
   "execution_count": 16,
   "metadata": {},
   "outputs": [],
   "source": [
    "full_data1['DailyTotalCharge'] = full_data1['TotalClaimAmount'] \\\n",
    "/full_data1['DaysAdmitted']\n",
    "\n",
    "DailyTotalCharge = pd.DataFrame(full_data1.groupby('Provider') \\\n",
    "                                ['DailyTotalCharge'].mean())\n",
    "\n",
    "fraud1 = pd.merge(fraud1, DailyTotalCharge, on='Provider')"
   ]
  },
  {
   "cell_type": "markdown",
   "metadata": {},
   "source": [
    "#### 7-10"
   ]
  },
  {
   "cell_type": "code",
   "execution_count": 17,
   "metadata": {},
   "outputs": [],
   "source": [
    "IPAnnReimbMean = pd.DataFrame(full_data1.groupby('Provider') \\\n",
    "                              ['IPAnnualReimbursementAmt'].mean())\n",
    "\n",
    "IPAnnDeductMean = pd.DataFrame(full_data1.groupby('Provider') \\\n",
    "                               ['IPAnnualDeductibleAmt'].mean())\n",
    "\n",
    "OPAnnReimbMean = pd.DataFrame(full_data1.groupby('Provider') \\\n",
    "                              ['OPAnnualReimbursementAmt'].mean())\n",
    "\n",
    "OPAnnDeductMean = pd.DataFrame(full_data1.groupby('Provider') \\\n",
    "                               ['OPAnnualDeductibleAmt'].mean())"
   ]
  },
  {
   "cell_type": "code",
   "execution_count": 18,
   "metadata": {},
   "outputs": [],
   "source": [
    "fraud1 = pd.merge(fraud1, IPAnnReimbMean, on='Provider')\n",
    "fraud1 = pd.merge(fraud1, IPAnnDeductMean, on='Provider')\n",
    "fraud1 = pd.merge(fraud1, OPAnnReimbMean, on='Provider')\n",
    "fraud1 = pd.merge(fraud1, OPAnnDeductMean, on='Provider')"
   ]
  },
  {
   "cell_type": "markdown",
   "metadata": {},
   "source": [
    "#### 11. Total Annual Claim Amount Mean"
   ]
  },
  {
   "cell_type": "code",
   "execution_count": 19,
   "metadata": {},
   "outputs": [],
   "source": [
    "full_data1['TotalAnnClaimAmt'] = full_data1['IPAnnualReimbursementAmt']+ \\\n",
    "full_data1['IPAnnualDeductibleAmt']+full_data1['OPAnnualReimbursementAmt'] \\\n",
    "+ full_data1['OPAnnualDeductibleAmt']\n",
    "\n",
    "TotalAnnClaimAmt = pd.DataFrame(full_data1.groupby('Provider') \\\n",
    "                                ['TotalAnnClaimAmt'].mean())\n",
    "\n",
    "fraud1 = pd.merge(fraud1, TotalAnnClaimAmt, on='Provider')"
   ]
  },
  {
   "cell_type": "markdown",
   "metadata": {},
   "source": [
    "#### 12. Number of Doctors per provider "
   ]
  },
  {
   "cell_type": "code",
   "execution_count": 20,
   "metadata": {},
   "outputs": [],
   "source": [
    "doctors= full_data1.groupby(['Provider', 'AttendingPhysician']) \\\n",
    "['AttendingPhysician'].count().reset_index(name='NumOfDoctors'). \\\n",
    "groupby('Provider')['NumOfDoctors'].count().reset_index()\n",
    "\n",
    "fraud1 = pd.merge(fraud1, doctors, on='Provider')"
   ]
  },
  {
   "cell_type": "markdown",
   "metadata": {},
   "source": [
    "#### 13. Number of patients per provider"
   ]
  },
  {
   "cell_type": "code",
   "execution_count": 21,
   "metadata": {},
   "outputs": [],
   "source": [
    "patient= full_data.groupby(['Provider','BeneID'])['BeneID'].count(). \\\n",
    "reset_index(name='NumOfPatients').groupby('Provider')['NumOfPatients']. \\\n",
    "count().reset_index()\n",
    "\n",
    "fraud1 = pd.merge(fraud1, patient, on='Provider')"
   ]
  },
  {
   "cell_type": "markdown",
   "metadata": {},
   "source": [
    "#### 14. Type of Service Done by each provider - Inpatient/Outpatient/Both"
   ]
  },
  {
   "cell_type": "code",
   "execution_count": 22,
   "metadata": {},
   "outputs": [],
   "source": [
    "a = full_data1.groupby(['Provider', 'patientType'])['BeneID'].count().reset_index(name='count').\\\n",
    "drop('count', axis=1)\n",
    "\n",
    "a_list= list(zip(a.Provider, a.patientType))\n",
    "\n",
    "providerDict= {}\n",
    "\n",
    "for ele in a_list:\n",
    "    if ele[0] not in providerDict:\n",
    "        providerDict[ele[0]]= ele[1]    \n",
    "    else:\n",
    "        providerDict[ele[0]] = 'both'\n",
    "        \n",
    "\n",
    "providerService = pd.DataFrame(providerDict.keys(), providerDict.values()).reset_index().\\\n",
    "rename(columns={'index':'ServiceType', 0:'Provider'})"
   ]
  },
  {
   "cell_type": "code",
   "execution_count": 23,
   "metadata": {},
   "outputs": [],
   "source": [
    "fraud1 = pd.merge(fraud1, providerService, on='Provider')"
   ]
  },
  {
   "cell_type": "markdown",
   "metadata": {},
   "source": [
    "#### 15. Number of claims per provider"
   ]
  },
  {
   "cell_type": "code",
   "execution_count": 24,
   "metadata": {},
   "outputs": [],
   "source": [
    "claims= full_data1.groupby(['Provider', 'ClaimID'])['ClaimID'].count().\\\n",
    "reset_index(name='NumOfClms').groupby('Provider')['NumOfClms'].count().reset_index()\n",
    "\n",
    "fraud1 = pd.merge(fraud1, claims, on='Provider')"
   ]
  },
  {
   "cell_type": "markdown",
   "metadata": {},
   "source": [
    "#### 16. Weekly Claims"
   ]
  },
  {
   "cell_type": "code",
   "execution_count": 25,
   "metadata": {},
   "outputs": [],
   "source": [
    "full_data1['startClaimWeek']= full_data1['ClaimStartDt'].dt.week\n",
    "\n",
    "weeklyClaims= full_data1.groupby(['Provider','startClaimWeek', 'ClaimID'])['ClaimID'].count().reset_index(name='WeeklyClaims').\\\n",
    "groupby(['Provider'])['WeeklyClaims'].count().reset_index()\n",
    "\n",
    "fraud1= pd.merge(fraud1, weeklyClaims, on='Provider', how='left')"
   ]
  },
  {
   "cell_type": "markdown",
   "metadata": {},
   "source": [
    "#### 17. Monthtly Claims"
   ]
  },
  {
   "cell_type": "code",
   "execution_count": 26,
   "metadata": {},
   "outputs": [],
   "source": [
    "full_data1['startClaimMonth'] = full_data1['ClaimStartDt'].dt.month\n",
    "\n",
    "monthly = full_data1.groupby(['Provider','startClaimMonth', 'ClaimID'])['ClaimID'].count().reset_index(name='MonthlyClaims').\\\n",
    "groupby(['Provider'])['MonthlyClaims'].count().reset_index()\n",
    "\n",
    "fraud1 = pd.merge(fraud1, monthly, on='Provider', how='left')"
   ]
  },
  {
   "cell_type": "markdown",
   "metadata": {},
   "source": [
    "#### 18. Number of states each provider operates in"
   ]
  },
  {
   "cell_type": "code",
   "execution_count": 27,
   "metadata": {},
   "outputs": [],
   "source": [
    "numStates = full_data1.groupby(['Provider', 'State'])['State'].count().reset_index(name='a').groupby('Provider')['State'].count().\\\n",
    "reset_index(name='numStates')\n",
    "\n",
    "fraud1 = pd.merge(fraud1, numStates, on='Provider')"
   ]
  },
  {
   "cell_type": "markdown",
   "metadata": {},
   "source": [
    "#### 19. Number of countries each provider operates in "
   ]
  },
  {
   "cell_type": "code",
   "execution_count": 28,
   "metadata": {},
   "outputs": [],
   "source": [
    "numCounties = full_data.groupby(['Provider', 'County'])['County'].count().reset_index(name='a'). \\\n",
    "groupby('Provider')['County'].count().reset_index(name='numCounties')\n",
    "\n",
    "fraud1 = pd.merge(fraud1, numCounties, on='Provider')"
   ]
  },
  {
   "cell_type": "markdown",
   "metadata": {},
   "source": [
    "#### 20. Average number of chronic conditions per patient per provider "
   ]
  },
  {
   "cell_type": "code",
   "execution_count": 29,
   "metadata": {},
   "outputs": [],
   "source": [
    "patientChronic = full_data1.filter(regex='Chronic').replace(to_replace=2, value=0).sum(axis=1).\\\n",
    "reset_index(name='NumChronicCond')\n",
    "\n",
    "chronic = pd.concat([patientChronic, full_data1[['Provider', 'ClaimID']]], axis=1)\n",
    "\n",
    "avgChronic = chronic.groupby(['Provider', 'NumChronicCond'])['ClaimID'].count().reset_index(name='NumClaims').\\\n",
    "groupby('Provider').agg({'NumChronicCond':'mean', 'NumClaims':'mean'}).reset_index().\\\n",
    "rename(columns={'NumChronicCond':'AvgChronic', 'NumClaims':'AvgClaim'})\n",
    "\n",
    "fraud1 = pd.merge(fraud1, avgChronic, on='Provider')"
   ]
  },
  {
   "cell_type": "markdown",
   "metadata": {},
   "source": [
    "#### 21. Number of claim admit diagnosis codes per provider "
   ]
  },
  {
   "cell_type": "code",
   "execution_count": 30,
   "metadata": {},
   "outputs": [],
   "source": [
    "numDiffDiagnosisCode= full_data1.groupby(['Provider', 'ClmAdmitDiagnosisCode'])['ClmAdmitDiagnosisCode'].count(). \\\n",
    "reset_index(name='a').groupby('Provider')['ClmAdmitDiagnosisCode'].count().reset_index(name='numDiffDiagnosisCode')\n",
    "\n",
    "fraud1 = pd.merge(fraud1, numDiffDiagnosisCode, on='Provider', how='left')"
   ]
  },
  {
   "cell_type": "markdown",
   "metadata": {},
   "source": [
    "#### 22. Number of group diagnosis codes per provider"
   ]
  },
  {
   "cell_type": "code",
   "execution_count": 31,
   "metadata": {},
   "outputs": [],
   "source": [
    "numDiffGroupDiagCode = full_data1.groupby(['Provider', 'DiagnosisGroupCode'])['DiagnosisGroupCode']. \\\n",
    "count().reset_index(name='a').groupby('Provider')['DiagnosisGroupCode']. \\\n",
    "count().reset_index(name='numDiffGroupDiagCode')\n",
    "\n",
    "fraud1 = pd.merge(fraud1, numDiffGroupDiagCode, on='Provider', how='left')"
   ]
  },
  {
   "cell_type": "markdown",
   "metadata": {},
   "source": [
    "#### 23. Average patients' age per provider"
   ]
  },
  {
   "cell_type": "code",
   "execution_count": 32,
   "metadata": {},
   "outputs": [],
   "source": [
    "# Calculating the age of the patient at the time of their service\n",
    "full_data1['ClaimStartDt2'] =  pd.to_datetime(full_data1['ClaimStartDt'], format='%Y/%m/%d')\n",
    "full_data1['DOB'] =  pd.to_datetime(full_data1['DOB'], format='%Y/%m/%d')\n",
    "full_data1['AgeWhenServed'] = full_data1['ClaimStartDt'] - full_data1['DOB']"
   ]
  },
  {
   "cell_type": "code",
   "execution_count": 33,
   "metadata": {},
   "outputs": [],
   "source": [
    "# Converting the unit of AgeWhenServed to year from days\n",
    "full_data1['AgeWhenServed'] = full_data1['AgeWhenServed'] / np.timedelta64(1, 'Y')"
   ]
  },
  {
   "cell_type": "code",
   "execution_count": 34,
   "metadata": {},
   "outputs": [],
   "source": [
    "# Converting AgeWhenServed to int from float\n",
    "full_data1['AgeWhenServed'] = full_data1['AgeWhenServed'].fillna(-1)\n",
    "full_data1['AgeWhenServed'] = full_data1['AgeWhenServed'].astype(int)\n",
    "full_data1['AgeWhenServed'] = full_data1['AgeWhenServed'].replace(-1, np.nan)"
   ]
  },
  {
   "cell_type": "code",
   "execution_count": 35,
   "metadata": {},
   "outputs": [],
   "source": [
    "avgage = full_data1.groupby(['Provider', 'BeneID'])['AgeWhenServed']. \\\n",
    "mean().reset_index(name = \"AvgAgeWhenServed\").dropna() \\\n",
    ".groupby('Provider')['AvgAgeWhenServed'].mean().reset_index()"
   ]
  },
  {
   "cell_type": "code",
   "execution_count": 36,
   "metadata": {},
   "outputs": [],
   "source": [
    "fraud1 = pd.merge(fraud1, avgage, on='Provider', how='left')"
   ]
  },
  {
   "cell_type": "markdown",
   "metadata": {},
   "source": [
    "#### 24. Count of duplicated BeneID per provider"
   ]
  },
  {
   "cell_type": "code",
   "execution_count": 37,
   "metadata": {},
   "outputs": [],
   "source": [
    "inpatient = full_data1.loc[full_data1.patientType == 'inpatient']\n",
    "outpatient = full_data1.loc[full_data1.patientType == 'outpatient']"
   ]
  },
  {
   "cell_type": "code",
   "execution_count": 38,
   "metadata": {},
   "outputs": [],
   "source": [
    "# Dataframe of duplicated data for inpatients\n",
    "inpatient_d = inpatient[inpatient.duplicated(['ClmAdmitDiagnosisCode', \\\n",
    "                                              'DiagnosisGroupCode', \\\n",
    "                                              'ClmDiagnosisCode_1', \\\n",
    "                                              'ClmDiagnosisCode_2', \\\n",
    "                                              'ClmDiagnosisCode_3', \\\n",
    "                                              'ClmDiagnosisCode_4', \\\n",
    "                                              'ClmDiagnosisCode_5', \\\n",
    "                                              'ClmDiagnosisCode_6', \\\n",
    "                                              'ClmDiagnosisCode_7', \\\n",
    "                                              'ClmDiagnosisCode_8', \\\n",
    "                                              'ClmDiagnosisCode_9', \\\n",
    "                                              'ClmDiagnosisCode_10', \\\n",
    "                                              'ClmProcedureCode_1', \\\n",
    "                                              'ClmProcedureCode_2', \\\n",
    "                                              'ClmProcedureCode_3', \\\n",
    "                                              'ClmProcedureCode_4', \\\n",
    "                                              'ClmProcedureCode_5', \\\n",
    "                                              'ClmProcedureCode_6'], \\\n",
    "                                             keep = False)]"
   ]
  },
  {
   "cell_type": "code",
   "execution_count": 39,
   "metadata": {},
   "outputs": [],
   "source": [
    "# Dataframe of duplicated data for inpatients\n",
    "outpatient_d = outpatient[outpatient.duplicated(['ClmAdmitDiagnosisCode', \\\n",
    "                                              'DiagnosisGroupCode', \\\n",
    "                                              'ClmDiagnosisCode_1', \\\n",
    "                                              'ClmDiagnosisCode_2', \\\n",
    "                                              'ClmDiagnosisCode_3', \\\n",
    "                                              'ClmDiagnosisCode_4', \\\n",
    "                                              'ClmDiagnosisCode_5', \\\n",
    "                                              'ClmDiagnosisCode_6', \\\n",
    "                                              'ClmDiagnosisCode_7', \\\n",
    "                                              'ClmDiagnosisCode_8', \\\n",
    "                                              'ClmDiagnosisCode_9', \\\n",
    "                                              'ClmDiagnosisCode_10', \\\n",
    "                                              'ClmProcedureCode_1', \\\n",
    "                                              'ClmProcedureCode_2', \\\n",
    "                                              'ClmProcedureCode_3', \\\n",
    "                                              'ClmProcedureCode_4', \\\n",
    "                                              'ClmProcedureCode_5', \\\n",
    "                                              'ClmProcedureCode_6'], \\\n",
    "                                             keep = False)]"
   ]
  },
  {
   "cell_type": "code",
   "execution_count": 40,
   "metadata": {},
   "outputs": [],
   "source": [
    "# totalpatient_d = Duplicated inpatient + Duplicated outpatient\n",
    "totalpatient_d = pd.concat([inpatient_d, outpatient_d], axis=0)"
   ]
  },
  {
   "cell_type": "code",
   "execution_count": 41,
   "metadata": {},
   "outputs": [],
   "source": [
    "duplicatedBeneID = totalpatient_d.groupby('Provider')['BeneID'].value_counts().reset_index(name = \"ValueCount\")\n",
    "duplicatedBeneID = duplicatedBeneID.loc[duplicatedBeneID['ValueCount'] > 1]\n",
    "duplicatedBeneID = duplicatedBeneID.groupby('Provider')['BeneID'].count().reset_index(name = \"NumOfDuplicatedBeneID\")"
   ]
  },
  {
   "cell_type": "code",
   "execution_count": 42,
   "metadata": {},
   "outputs": [],
   "source": [
    "fraud1 = pd.merge(fraud1, duplicatedBeneID, on='Provider', how='left')"
   ]
  },
  {
   "cell_type": "markdown",
   "metadata": {},
   "source": [
    "#### 25. Count of duplicated attending physicians per provider"
   ]
  },
  {
   "cell_type": "code",
   "execution_count": 43,
   "metadata": {},
   "outputs": [],
   "source": [
    "duplicatedPhysician = totalpatient_d.groupby('Provider')['AttendingPhysician'].value_counts().reset_index(name = \"ValueCount\")\n",
    "duplicatedPhysician = duplicatedPhysician.loc[duplicatedPhysician['ValueCount'] > 1]\n",
    "duplicatedPhysician = duplicatedPhysician.groupby('Provider')['AttendingPhysician'].count().reset_index(name = \"NumOfDuplicatedAttendingPhysician\")"
   ]
  },
  {
   "cell_type": "code",
   "execution_count": 44,
   "metadata": {},
   "outputs": [],
   "source": [
    "fraud1 = pd.merge(fraud1, duplicatedPhysician, on='Provider', how='left')"
   ]
  },
  {
   "cell_type": "markdown",
   "metadata": {},
   "source": [
    "#### 26. Count of duplicated claims per provider"
   ]
  },
  {
   "cell_type": "code",
   "execution_count": 45,
   "metadata": {},
   "outputs": [],
   "source": [
    "duplicatedClaims = totalpatient_d.groupby('Provider').agg({'ClaimID' : 'count'}).reset_index()\n",
    "duplicatedClaims = duplicatedClaims.rename({'ClaimID' : 'NumOfDuplicatedClaims'}, axis=1)"
   ]
  },
  {
   "cell_type": "code",
   "execution_count": 46,
   "metadata": {},
   "outputs": [],
   "source": [
    "fraud1 = pd.merge(fraud1, duplicatedClaims, on='Provider', how='left')"
   ]
  },
  {
   "cell_type": "markdown",
   "metadata": {},
   "source": [
    "#### 27 - 40"
   ]
  },
  {
   "cell_type": "code",
   "execution_count": 47,
   "metadata": {},
   "outputs": [],
   "source": [
    "full_data2 = full_data1.copy()"
   ]
  },
  {
   "cell_type": "code",
   "execution_count": 48,
   "metadata": {},
   "outputs": [],
   "source": [
    "full_data2 = full_data2.replace({'RenalDiseaseIndicator' : 'Y'}, 1)\n",
    "\n",
    "full_data2['RenalDiseaseIndicator'] = full_data2 \\\n",
    "['RenalDiseaseIndicator'].astype(int)"
   ]
  },
  {
   "cell_type": "code",
   "execution_count": 49,
   "metadata": {},
   "outputs": [],
   "source": [
    "full_data2 = full_data2.replace({'ChronicCond_Alzheimer' : 2, \\\n",
    "                                 'ChronicCond_Heartfailure' : 2, \\\n",
    "                                 'ChronicCond_KidneyDisease' : 2, \\\n",
    "                                 'ChronicCond_Cancer' : 2, \\\n",
    "                                 'ChronicCond_ObstrPulmonary' : 2, \\\n",
    "                                 'ChronicCond_Depression' : 2, \\\n",
    "                                 'ChronicCond_Diabetes' : 2, \\\n",
    "                                 'ChronicCond_IschemicHeart' : 2, \\\n",
    "                                 'ChronicCond_Osteoporasis' : 2, \\\n",
    "                                 'ChronicCond_rheumatoidarthritis' : 2, \\\n",
    "                                 'ChronicCond_stroke' : 2}, 0)"
   ]
  },
  {
   "cell_type": "code",
   "execution_count": 50,
   "metadata": {},
   "outputs": [],
   "source": [
    "full_data2['NumChronicCond'] = full_data2['ChronicCond_Alzheimer'] \\\n",
    "+full_data2['ChronicCond_Heartfailure']+ \\\n",
    "full_data2['ChronicCond_KidneyDisease']+ \\\n",
    "full_data2['ChronicCond_Cancer']+ \\\n",
    "full_data2['ChronicCond_ObstrPulmonary']+ \\\n",
    "full_data2['ChronicCond_Depression']+ \\\n",
    "full_data2['ChronicCond_Diabetes']+ \\\n",
    "full_data2['ChronicCond_IschemicHeart']+ \\\n",
    "full_data2['ChronicCond_Osteoporasis']+ \\\n",
    "full_data2['ChronicCond_rheumatoidarthritis']+ \\\n",
    "full_data2['ChronicCond_stroke']+ \\\n",
    "full_data2['RenalDiseaseIndicator']"
   ]
  },
  {
   "cell_type": "code",
   "execution_count": 51,
   "metadata": {},
   "outputs": [],
   "source": [
    "chronicConditions = full_data2.groupby(['Provider', 'BeneID'])['NumChronicCond'].value_counts().reset_index(name = 'NumChronicCondCount')\n",
    "chronicConditions['NumChronicCondCount'] = chronicConditions['NumChronicCondCount'].apply(lambda x: 1 if x >= 1 else 0)\n",
    "chronicConditions = chronicConditions.groupby('Provider')['NumChronicCond'].value_counts().reset_index(name = 'NumChronicCondCount')"
   ]
  },
  {
   "cell_type": "code",
   "execution_count": 52,
   "metadata": {},
   "outputs": [],
   "source": [
    "chronicConditions = chronicConditions.groupby(['Provider', 'NumChronicCond']).NumChronicCondCount.sum()\n",
    "chronicConditions = chronicConditions.unstack(level='NumChronicCond').reset_index()\n",
    "chronicConditions = chronicConditions.rename({0 : 'ChronicCond0', \n",
    "                                              1 : 'ChronicCond1', \n",
    "                                              2 : 'ChronicCond2',\n",
    "                                              3 : 'ChronicCond3',\n",
    "                                              4 : 'ChronicCond4',\n",
    "                                              5 : 'ChronicCond5',\n",
    "                                              6 : 'ChronicCond6',\n",
    "                                              7 : 'ChronicCond7',\n",
    "                                              8 : 'ChronicCond8',\n",
    "                                              9 : 'ChronicCond9',\n",
    "                                              10 : 'ChronicCond10',\n",
    "                                              11 : 'ChronicCond11',\n",
    "                                              12 : 'ChronicCond12'}, axis=1)\n",
    "chronicConditions.fillna(0, inplace=True)"
   ]
  },
  {
   "cell_type": "code",
   "execution_count": 53,
   "metadata": {},
   "outputs": [],
   "source": [
    "fraud1 = pd.merge(fraud1, chronicConditions, \\\n",
    "                  on = 'Provider', how = 'left')"
   ]
  },
  {
   "cell_type": "markdown",
   "metadata": {},
   "source": [
    "#### 41-42 Counts of each gender of patients per provider"
   ]
  },
  {
   "cell_type": "code",
   "execution_count": 54,
   "metadata": {},
   "outputs": [],
   "source": [
    "gender = full_data1.groupby(['Provider', 'BeneID', 'Gender'])['Gender'].count().reset_index(name = 'GenderCount')\n",
    "gender['GenderCount'] = gender['GenderCount'].apply(lambda x: 1 if x >= 1 else 0)\n",
    "gender = gender.groupby('Provider')['Gender'].value_counts().reset_index(name = 'GenderCount')"
   ]
  },
  {
   "cell_type": "code",
   "execution_count": 55,
   "metadata": {},
   "outputs": [
    {
     "name": "stderr",
     "output_type": "stream",
     "text": [
      "/opt/anaconda3/lib/python3.7/site-packages/ipykernel_launcher.py:8: SettingWithCopyWarning: \n",
      "A value is trying to be set on a copy of a slice from a DataFrame\n",
      "\n",
      "See the caveats in the documentation: http://pandas.pydata.org/pandas-docs/stable/user_guide/indexing.html#returning-a-view-versus-a-copy\n",
      "  \n",
      "/opt/anaconda3/lib/python3.7/site-packages/ipykernel_launcher.py:6: SettingWithCopyWarning: \n",
      "A value is trying to be set on a copy of a slice from a DataFrame\n",
      "\n",
      "See the caveats in the documentation: http://pandas.pydata.org/pandas-docs/stable/user_guide/indexing.html#returning-a-view-versus-a-copy\n",
      "  \n"
     ]
    }
   ],
   "source": [
    "gender['Gender1'] = 0\n",
    "gender['Gender2'] = 0\n",
    "\n",
    "for index in gender.index:\n",
    "    if gender['Gender'][index] == 1:\n",
    "        gender['Gender1'][index] += gender['GenderCount'][index]\n",
    "    if gender['Gender'][index] == 2:\n",
    "        gender['Gender2'][index] += gender['GenderCount'][index]"
   ]
  },
  {
   "cell_type": "code",
   "execution_count": 56,
   "metadata": {},
   "outputs": [],
   "source": [
    "gender = gender.drop('Gender', axis = 1)\n",
    "gender = gender.drop('GenderCount', axis = 1)"
   ]
  },
  {
   "cell_type": "code",
   "execution_count": 57,
   "metadata": {},
   "outputs": [],
   "source": [
    "genderCount = gender.groupby('Provider'). \\\n",
    "agg({'Gender1' : 'sum', 'Gender2' : 'sum'}).reset_index()"
   ]
  },
  {
   "cell_type": "code",
   "execution_count": 58,
   "metadata": {},
   "outputs": [],
   "source": [
    "fraud1 = pd.merge(fraud1, genderCount, on = 'Provider', how = 'left')"
   ]
  },
  {
   "cell_type": "markdown",
   "metadata": {},
   "source": [
    "#### 43-46. Counts of each race of patients per provider"
   ]
  },
  {
   "cell_type": "code",
   "execution_count": 59,
   "metadata": {},
   "outputs": [],
   "source": [
    "race = full_data1.groupby(['Provider', 'BeneID', 'Race'])['Race'].count().reset_index(name = 'RaceCount')\n",
    "race['RaceCount'] = race['RaceCount'].apply(lambda x: 1 if x >= 1 else 0)\n",
    "race = race.groupby('Provider')['Race'].value_counts().reset_index(name = 'RaceCount')"
   ]
  },
  {
   "cell_type": "code",
   "execution_count": 60,
   "metadata": {},
   "outputs": [
    {
     "name": "stderr",
     "output_type": "stream",
     "text": [
      "/opt/anaconda3/lib/python3.7/site-packages/ipykernel_launcher.py:8: SettingWithCopyWarning: \n",
      "A value is trying to be set on a copy of a slice from a DataFrame\n",
      "\n",
      "See the caveats in the documentation: http://pandas.pydata.org/pandas-docs/stable/user_guide/indexing.html#returning-a-view-versus-a-copy\n",
      "  \n",
      "/opt/anaconda3/lib/python3.7/site-packages/ipykernel_launcher.py:10: SettingWithCopyWarning: \n",
      "A value is trying to be set on a copy of a slice from a DataFrame\n",
      "\n",
      "See the caveats in the documentation: http://pandas.pydata.org/pandas-docs/stable/user_guide/indexing.html#returning-a-view-versus-a-copy\n",
      "  # Remove the CWD from sys.path while we load stuff.\n",
      "/opt/anaconda3/lib/python3.7/site-packages/ipykernel_launcher.py:14: SettingWithCopyWarning: \n",
      "A value is trying to be set on a copy of a slice from a DataFrame\n",
      "\n",
      "See the caveats in the documentation: http://pandas.pydata.org/pandas-docs/stable/user_guide/indexing.html#returning-a-view-versus-a-copy\n",
      "  \n",
      "/opt/anaconda3/lib/python3.7/site-packages/ipykernel_launcher.py:12: SettingWithCopyWarning: \n",
      "A value is trying to be set on a copy of a slice from a DataFrame\n",
      "\n",
      "See the caveats in the documentation: http://pandas.pydata.org/pandas-docs/stable/user_guide/indexing.html#returning-a-view-versus-a-copy\n",
      "  if sys.path[0] == '':\n"
     ]
    }
   ],
   "source": [
    "race['Race1'] = 0\n",
    "race['Race2'] = 0\n",
    "race['Race3'] = 0\n",
    "race['Race5'] = 0\n",
    "\n",
    "for index in race.index:\n",
    "    if race['Race'][index] == 1:\n",
    "        race['Race1'][index] += race['RaceCount'][index]\n",
    "    if race['Race'][index] == 2:\n",
    "        race['Race2'][index] += race['RaceCount'][index]\n",
    "    if race['Race'][index] == 3:\n",
    "        race['Race3'][index] += race['RaceCount'][index]\n",
    "    if race['Race'][index] == 5:\n",
    "        race['Race5'][index] += race['RaceCount'][index]"
   ]
  },
  {
   "cell_type": "code",
   "execution_count": 61,
   "metadata": {},
   "outputs": [],
   "source": [
    "race = race.drop('Race', axis = 1)\n",
    "race = race.drop('RaceCount', axis = 1)"
   ]
  },
  {
   "cell_type": "code",
   "execution_count": 62,
   "metadata": {},
   "outputs": [],
   "source": [
    "raceCount = race.groupby('Provider'). \\\n",
    "agg({'Race1' : 'sum', 'Race2' : 'sum', 'Race3' : 'sum', \\\n",
    "     'Race5' : 'sum'}).reset_index()"
   ]
  },
  {
   "cell_type": "code",
   "execution_count": 63,
   "metadata": {},
   "outputs": [],
   "source": [
    "fraud1 = pd.merge(fraud1, raceCount, on = 'Provider', how = 'left')"
   ]
  },
  {
   "cell_type": "markdown",
   "metadata": {},
   "source": [
    "#### Impute na values with 0"
   ]
  },
  {
   "cell_type": "code",
   "execution_count": 64,
   "metadata": {},
   "outputs": [],
   "source": [
    "fraud1 = fraud1.replace(np.nan,0)"
   ]
  },
  {
   "cell_type": "markdown",
   "metadata": {},
   "source": [
    "#### Pickling Dataset"
   ]
  },
  {
   "cell_type": "code",
   "execution_count": 95,
   "metadata": {},
   "outputs": [],
   "source": [
    "fraud1.to_pickle('test_dataset.pkl')"
   ]
  },
  {
   "cell_type": "markdown",
   "metadata": {},
   "source": [
    "## Feature Engineering: Round 2\n",
    "### - After Performing Random Trees Feature Selection on Train Data"
   ]
  },
  {
   "cell_type": "code",
   "execution_count": 67,
   "metadata": {},
   "outputs": [],
   "source": [
    "test_data = fraud1.copy()"
   ]
  },
  {
   "cell_type": "code",
   "execution_count": 68,
   "metadata": {},
   "outputs": [],
   "source": [
    "#dropping columns after performing Random Trees feature importance on train\n",
    "\n",
    "test_data.drop(['WeeklyClaims', 'MonthlyClaims', 'IPAnnualReimbursementAmt', 'IPAnnualDeductibleAmt',\n",
    "                'OPAnnualReimbursementAmt', 'OPAnnualDeductibleAmt', 'DeductibleAmtPaid',\n",
    "                'InscClaimAmtReimbursed'], axis=1, inplace=True)"
   ]
  },
  {
   "cell_type": "markdown",
   "metadata": {},
   "source": [
    "#### New Feature: Number of distinct operating physicians per provider"
   ]
  },
  {
   "cell_type": "code",
   "execution_count": 70,
   "metadata": {},
   "outputs": [],
   "source": [
    "opPhy = full_data1.groupby(['Provider', 'OperatingPhysician'])['OperatingPhysician'].count().reset_index(name='a').\\\n",
    "groupby('Provider')['a'].count().reset_index(name= 'NumDistincOpPhy')"
   ]
  },
  {
   "cell_type": "code",
   "execution_count": 72,
   "metadata": {},
   "outputs": [],
   "source": [
    "test_data = pd.merge(test_data, opPhy, on = 'Provider', how = 'left')"
   ]
  },
  {
   "cell_type": "markdown",
   "metadata": {},
   "source": [
    "#### Number of Distinct \"Other Physicians\" per provider "
   ]
  },
  {
   "cell_type": "code",
   "execution_count": 74,
   "metadata": {},
   "outputs": [],
   "source": [
    "otherPhy = full_data1.groupby(['Provider', 'OtherPhysician'])['OtherPhysician'].count().reset_index(name='a').\\\n",
    "groupby('Provider')['a'].count().reset_index(name= 'NumDistincOtherPhy')"
   ]
  },
  {
   "cell_type": "code",
   "execution_count": 75,
   "metadata": {},
   "outputs": [],
   "source": [
    "test_data = pd.merge(test_data, otherPhy, on = 'Provider', how = 'left')"
   ]
  },
  {
   "cell_type": "markdown",
   "metadata": {},
   "source": [
    "#### Number of Distinct Claim Diagnosis Codes per provider"
   ]
  },
  {
   "cell_type": "code",
   "execution_count": 77,
   "metadata": {},
   "outputs": [],
   "source": [
    "diagCode1 = full_data1.groupby(['Provider', 'ClmDiagnosisCode_1'])['ClmDiagnosisCode_1'].count().reset_index(name='a').\\\n",
    "groupby('Provider')['a'].count().reset_index(name= 'NumDistincClmDiagCode1')\n",
    "\n",
    "diagCode2 = full_data1.groupby(['Provider', 'ClmDiagnosisCode_2'])['ClmDiagnosisCode_2'].count().reset_index(name='a').\\\n",
    "groupby('Provider')['a'].count().reset_index(name= 'NumDistincClmDiagCode2')\n",
    "\n",
    "diagCode3 = full_data1.groupby(['Provider', 'ClmDiagnosisCode_3'])['ClmDiagnosisCode_3'].count().reset_index(name='a').\\\n",
    "groupby('Provider')['a'].count().reset_index(name= 'NumDistincClmDiagCode3')\n",
    "\n",
    "diagCode4 = full_data1.groupby(['Provider', 'ClmDiagnosisCode_4'])['ClmDiagnosisCode_4'].count().reset_index(name='a').\\\n",
    "groupby('Provider')['a'].count().reset_index(name= 'NumDistincClmDiagCode4')\n",
    "\n",
    "diagCode5 = full_data1.groupby(['Provider', 'ClmDiagnosisCode_5'])['ClmDiagnosisCode_5'].count().reset_index(name='a').\\\n",
    "groupby('Provider')['a'].count().reset_index(name= 'NumDistincClmDiagCode5')\n",
    "\n",
    "diagCode6= full_data1.groupby(['Provider', 'ClmDiagnosisCode_6'])['ClmDiagnosisCode_6'].count().reset_index(name='a').\\\n",
    "groupby('Provider')['a'].count().reset_index(name= 'NumDistincClmDiagCode6')\n",
    "\n",
    "diagCode7 = full_data1.groupby(['Provider', 'ClmDiagnosisCode_7'])['ClmDiagnosisCode_7'].count().reset_index(name='a').\\\n",
    "groupby('Provider')['a'].count().reset_index(name= 'NumDistincClmDiagCode7')\n",
    "\n",
    "diagCode8 = full_data1.groupby(['Provider', 'ClmDiagnosisCode_8'])['ClmDiagnosisCode_8'].count().reset_index(name='a').\\\n",
    "groupby('Provider')['a'].count().reset_index(name= 'NumDistincClmDiagCode8')\n",
    "\n",
    "diagCode9 = full_data1.groupby(['Provider', 'ClmDiagnosisCode_9'])['ClmDiagnosisCode_9'].count().reset_index(name='a').\\\n",
    "groupby('Provider')['a'].count().reset_index(name= 'NumDistincClmDiagCode9')\n",
    "\n",
    "diagCode10 = full_data1.groupby(['Provider', 'ClmDiagnosisCode_10'])['ClmDiagnosisCode_10'].count().reset_index(name='a').\\\n",
    "groupby('Provider')['a'].count().reset_index(name= 'NumDistincClmDiagCode10')"
   ]
  },
  {
   "cell_type": "code",
   "execution_count": 78,
   "metadata": {},
   "outputs": [],
   "source": [
    "test_data = pd.merge(test_data, diagCode1, on='Provider', how='left')\n",
    "test_data = pd.merge(test_data, diagCode2, on='Provider', how='left')\n",
    "test_data = pd.merge(test_data, diagCode3, on='Provider', how='left')\n",
    "test_data = pd.merge(test_data, diagCode4, on='Provider', how='left')\n",
    "test_data = pd.merge(test_data, diagCode5, on='Provider', how='left')\n",
    "test_data = pd.merge(test_data, diagCode6, on='Provider', how='left')\n",
    "test_data = pd.merge(test_data, diagCode7, on='Provider', how='left')\n",
    "test_data = pd.merge(test_data, diagCode8, on='Provider', how='left')\n",
    "test_data = pd.merge(test_data, diagCode9, on='Provider', how='left')\n",
    "test_data = pd.merge(test_data, diagCode10, on='Provider', how='left')"
   ]
  },
  {
   "cell_type": "markdown",
   "metadata": {},
   "source": [
    "#### Number of Distinct Procedure Diagnosis Codes per provider"
   ]
  },
  {
   "cell_type": "code",
   "execution_count": 79,
   "metadata": {},
   "outputs": [],
   "source": [
    "proCode1= full_data1.groupby(['Provider', 'ClmProcedureCode_1'])['ClmProcedureCode_1'].count().reset_index(name='a').\\\n",
    "groupby('Provider')['a'].count().reset_index(name= 'NumDistincClmProCode1')\n",
    "\n",
    "\n",
    "proCode2 = full_data1.groupby(['Provider', 'ClmProcedureCode_2'])['ClmProcedureCode_2'].count().reset_index(name='a').\\\n",
    "groupby('Provider')['a'].count().reset_index(name= 'NumDistincClmProCode2')\n",
    "\n",
    "\n",
    "proCode3 = full_data1.groupby(['Provider', 'ClmProcedureCode_3'])['ClmProcedureCode_3'].count().reset_index(name='a').\\\n",
    "groupby('Provider')['a'].count().reset_index(name= 'NumDistincClmProCode3')\n",
    "\n",
    "proCode4 = full_data1.groupby(['Provider', 'ClmProcedureCode_4'])['ClmProcedureCode_4'].count().reset_index(name='a').\\\n",
    "groupby('Provider')['a'].count().reset_index(name= 'NumDistincClmProCode4')\n",
    "\n",
    "\n",
    "proCode5 = full_data1.groupby(['Provider', 'ClmProcedureCode_5'])['ClmProcedureCode_5'].count().reset_index(name='a').\\\n",
    "groupby('Provider')['a'].count().reset_index(name= 'NumDistincClmProCode5')"
   ]
  },
  {
   "cell_type": "code",
   "execution_count": 80,
   "metadata": {},
   "outputs": [],
   "source": [
    "test_data = pd.merge(test_data, proCode1, on='Provider', how='left')\n",
    "test_data = pd.merge(test_data, proCode2, on='Provider', how='left')\n",
    "test_data = pd.merge(test_data, proCode3, on='Provider', how='left')\n",
    "test_data = pd.merge(test_data, proCode4, on='Provider', how='left')\n",
    "test_data = pd.merge(test_data, proCode5, on='Provider', how='left')"
   ]
  },
  {
   "cell_type": "markdown",
   "metadata": {},
   "source": [
    "#### Impute na values with 0"
   ]
  },
  {
   "cell_type": "code",
   "execution_count": 83,
   "metadata": {},
   "outputs": [],
   "source": [
    "test_data = test_data.replace(np.nan,0)"
   ]
  },
  {
   "cell_type": "markdown",
   "metadata": {},
   "source": [
    "#### Pickling dataset 2"
   ]
  },
  {
   "cell_type": "code",
   "execution_count": 85,
   "metadata": {},
   "outputs": [],
   "source": [
    "test_data.to_pickle('test_dataset2.pkl')"
   ]
  },
  {
   "cell_type": "markdown",
   "metadata": {},
   "source": [
    "# Feature Engineering: Round 3"
   ]
  },
  {
   "cell_type": "code",
   "execution_count": 3,
   "metadata": {},
   "outputs": [],
   "source": [
    "test_data3 = pd.read_pickle(\"test_dataset2.pkl\")"
   ]
  },
  {
   "cell_type": "code",
   "execution_count": 4,
   "metadata": {},
   "outputs": [],
   "source": [
    "test_data3 = test_data3.drop(columns= ['NumDistincClmDiagCode1','NumDistincClmDiagCode2','NumDistincClmDiagCode3', \\\n",
    "                   'NumDistincClmDiagCode4','NumDistincClmDiagCode5','NumDistincClmDiagCode6', \\\n",
    "                   'NumDistincClmDiagCode7','NumDistincClmDiagCode8','NumDistincClmDiagCode9', \\\n",
    "                   'NumDistincClmDiagCode10','NumDistincClmProCode1','NumDistincClmProCode2','NumDistincClmProCode3', \\\n",
    "                  'NumDistincClmProCode4','NumDistincClmProCode5'], axis=1)"
   ]
  },
  {
   "cell_type": "code",
   "execution_count": 5,
   "metadata": {},
   "outputs": [],
   "source": [
    "test_data3 = test_data3.rename(columns={'numDiffDiagnosisCode':'NumUniqClmAdmitDiagCOde',\n",
    "                                        'numDiffGroupDiagCode':'NumUniqGroupDiagCode'})"
   ]
  },
  {
   "cell_type": "code",
   "execution_count": 6,
   "metadata": {},
   "outputs": [],
   "source": [
    "test_data3.to_pickle('test_dataset3.pkl')"
   ]
  },
  {
   "cell_type": "code",
   "execution_count": null,
   "metadata": {},
   "outputs": [],
   "source": []
  }
 ],
 "metadata": {
  "kernelspec": {
   "display_name": "Python 3",
   "language": "python",
   "name": "python3"
  },
  "language_info": {
   "codemirror_mode": {
    "name": "ipython",
    "version": 3
   },
   "file_extension": ".py",
   "mimetype": "text/x-python",
   "name": "python",
   "nbconvert_exporter": "python",
   "pygments_lexer": "ipython3",
   "version": "3.7.4"
  }
 },
 "nbformat": 4,
 "nbformat_minor": 2
}
